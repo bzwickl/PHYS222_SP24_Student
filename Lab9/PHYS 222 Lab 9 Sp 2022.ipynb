{
 "cells": [
  {
   "cell_type": "markdown",
   "metadata": {
    "nbgrader": {
     "grade": false,
     "grade_id": "cell-94647c1b2db127ac",
     "locked": true,
     "schema_version": 3,
     "solution": false,
     "task": false
    }
   },
   "source": [
    "# Lab 9 - Arduino introduction and 1st part of the pulse sensor\n",
    "### PHYS 222, Spring 2022, Dr. Ben Zwickl \n",
    "\n",
    "### Goals\n",
    "* Connect to Arduino\n",
    "* Controlling the on-board LED\n",
    "* Controlling an LEDs with a digital output.\n",
    "* Using the Arduino's `analogRead()` function as an oscilloscope\n",
    "* Building the first stage of the pulse sensor.\n",
    "\n",
    "\n"
   ]
  },
  {
   "cell_type": "code",
   "execution_count": 2,
   "metadata": {},
   "outputs": [],
   "source": [
    "# load packages at the top of your notebook. \n",
    "# We will always use numpy and matplotlib.pyplot.\n",
    "# In future weeks, you should add these lines yourself\n",
    "\n",
    "import numpy as np\n",
    "import matplotlib.pyplot as plt"
   ]
  },
  {
   "cell_type": "markdown",
   "metadata": {
    "nbgrader": {
     "grade": false,
     "grade_id": "cell-0a8a7a625e8748ce",
     "locked": true,
     "points": 1,
     "schema_version": 3,
     "solution": false,
     "task": true
    }
   },
   "source": [
    "# Task 1: Copy your `load_waveform` function from Lab 3\n",
    "\n",
    "**Insert cell or cells below to record your answers**"
   ]
  },
  {
   "cell_type": "code",
   "execution_count": null,
   "metadata": {},
   "outputs": [],
   "source": [
    "# RUN THESE TEST CASES BUT DON'T EDIT THEM\n",
    "\n",
    "### Test cases for load_waveform\n",
    "data = load_waveform(\"Sample_Scopy_Data.csv\")\n",
    "assert len(data) == 3        # make sure the function returns a list of 3 things\n",
    "t, ch1, ch2 = data            # unpack for analysis\n",
    "assert len(t) == len(ch1) == len(ch2) == 3200  # check length of imported data set\n",
    "assert abs(ch1.mean() - -0.0033719303437499894)/-0.0033719303437499894 < 1e-4  # check the values on ch1\n",
    "assert (np.mean( np.abs(ch2) ) - 0.5011812406249)/ 0.5011812406249 < 1e-4  # check the values on ch2\n",
    "assert abs( (t.min() - (-0.0016)) ) /abs(-0.0016) < 1e-4   # check the min time"
   ]
  },
  {
   "cell_type": "markdown",
   "metadata": {
    "nbgrader": {
     "grade": false,
     "grade_id": "cell-4abb1420a1021c30",
     "locked": true,
     "points": 2,
     "schema_version": 3,
     "solution": false,
     "task": true
    }
   },
   "source": [
    "# Task 2: Control the on-board LED for Arduino\n",
    "\n",
    "Use this tutorial connect to your Arduino https://www.arduino.cc/en/Guide/ArduinoUno. \n",
    "1. Make sure you get the Arduino Desktop IDE working (not just the Arduino Web Editor). The Desktop IDE has important features, especially the Serial Plotter.\n",
    "1. Make sure you can run the **Example > 01.Basics > Blink** sketch (part of the guide).\n",
    "1. How many \"blinks per second\" does this example program do?\n",
    "1. Google the official Arduino documentation for the `delay` function. How many inputs does this function take? What do the inputs mean? Why does the example program have the line `delay(1000)`?\n",
    "1. Modify the program to flash 4 times per second. \n",
    "1. Copy your final Arduino code into a Markdown cell. \n",
    "\n",
    "#### Note: Use the triple backticks in Markdown to create a code block\n",
    "Here is an example of a code block made with triple backticks. Double-click the cell to see what it looks like in Markdown.\n",
    "```\n",
    "// the setup function runs once when you press reset or power the board\n",
    "void setup() {\n",
    "  // initialize digital pin LED_BUILTIN as an output.\n",
    "  pinMode(LED_BUILTIN, OUTPUT);\n",
    "}\n",
    "```\n",
    "\n",
    "**Insert cell or cells below to record your answers**"
   ]
  },
  {
   "cell_type": "markdown",
   "metadata": {
    "nbgrader": {
     "grade": false,
     "grade_id": "cell-4da534fac1e18e8c",
     "locked": true,
     "points": 2,
     "schema_version": 3,
     "solution": false,
     "task": true
    }
   },
   "source": [
    "# Task 3: Control an off-board LED using Arduino digital out\n",
    "![Controlling LED with Pin 13](Fig_Schematic_for_Pin13_LED.PNG)\n",
    "1. Build this circuit, connect it to the Arduino's pin 13 and the Arduino's ground.\n",
    "1. To control the output of Pin 13, we will use the Arduino's digialWrite function to switch the output between HIGH and LOW. Use the example in the official documentation to see how to switch a pin between high and low. https://www.arduino.cc/reference/en/language/functions/digital-io/digitalwrite/\n",
    "1. Use the M2K oscilloscope to measure both the voltage output of Pin 13 and the voltage across the LED. \n",
    "1. What is the current through the LED when it is ON? Why is the resistor important in this circuit? See Max Forward current rating according to datasheets for the [Blue LED](https://www.digikey.com/en/products/detail/cree-inc/C503B-BCN-CV0Z0462/6138534) and [Red LED](https://www.digikey.com/en/products/detail/cree-inc/C503B-RCN-CW0Z0AA2/6138549)\n",
    "1. Copy your final Arduino code into a Markdown cell. \n",
    "\n",
    "\n",
    "**Insert cell or cells below to record your answers**"
   ]
  },
  {
   "cell_type": "markdown",
   "metadata": {
    "nbgrader": {
     "grade": false,
     "grade_id": "cell-d931a26cd4ec3180",
     "locked": true,
     "points": 2,
     "schema_version": 3,
     "solution": false,
     "task": true
    }
   },
   "source": [
    "# Task 4: Use the Arduino to read and plot analog voltage signals\n",
    "\n",
    "This is a \"skill building\" task that will be useful for more sophisticated measurements, such as the pulse sensor.\n",
    "\n",
    "In addition to having pins for digital inputs and outputs, the Arduino has dedicated pins for analog Inputs. You can think of these pins as multimeters or oscilloscopes that can only sample at a low rate (10s or 100s of times per second). The main purpose of these pins is to read analog sensors. \n",
    "\n",
    "#### Sub-tasks\n",
    "\n",
    "\n",
    "1. **Use the M2K's signal generator to create a slow oscillation** (1 Hz, 3 Vpp, 1.5 V offset). The goal is to have a signal that oscillates, but doesn't go negative because the analog input cannot read negative voltages. Connect the M2K's W1 output to the analog input pin A3 on the Arduino Uno.\n",
    "1. **Read the [official documentation](https://www.arduino.cc/reference/en/language/functions/analog-io/analogread/)** on the analogRead() function.\n",
    "1. **Use the Example** in the documentation for your Arduino sketch (program).\n",
    "1. **Use serial plotter to visualize the signal.** Start the serial plotter under the menu **Tools > Serial Plotter**. A new window with a graph should pop up.\n",
    "    * What happens to the negative values of the waveform? \n",
    "    * What are the range of x-values?\n",
    "1. **Save a screenshot** of the serial plotter.\n",
    "1. **Copy your final Arduino code** into a Markdown cell code block. \n",
    "\n",
    "**Insert cell or cells below to record your answers**"
   ]
  },
  {
   "cell_type": "markdown",
   "metadata": {
    "nbgrader": {
     "grade": false,
     "grade_id": "cell-739a4aed57afa5e8",
     "locked": true,
     "points": 2,
     "schema_version": 3,
     "solution": false,
     "task": true
    }
   },
   "source": [
    "# Task 5: Convert Analog output values to millivolts.\n",
    "\n",
    "This task is an extension of Task 4 that describes more about the analog inputs:\n",
    "* The Arduino's analog inputs only accept values between 0-5 V. Anything lower or higher is clipped.\n",
    "* The analog to digital converter has 10 bits of resolution, so the range from 0-5 V gets divided into $2^{10} = 1024$ steps.\n",
    "* The analog input stores the voltage as an integer between 0 (corresponding to 0 V) and 1023 (corresponding to 5V). \n",
    "\n",
    "To convert from analog input value (integer, $\\textrm{val}$) into a voltage $V$ in millivolts, use:\n",
    "\n",
    "$$ V = \\frac{5 \\textrm{ V}}{1024} \\times \\textrm{val} \\times 1000$$\n",
    "\n",
    "You may be wondering why we use mV rather than V. It is because the autoranging on the serial plotter works better with larger numbers. \n",
    "\n",
    "#### Sub-tasks\n",
    "\n",
    "1. Explain the meaning of the equation in your own words.\n",
    "1. Modify the Arduino code from Task 4: \n",
    "    * create a new `float` type variable named `mv` (for millivolts). \n",
    "    * after each `analogRead() of `val`, add a line where you calculate the value for `mv` in terms of `val`.\n",
    "    * modify the `Serial.println()` statement to output the value in millivolts rather than the integer. \n",
    "1. Run the new code and visualize the output run serial plotter. \n",
    "1. Take a screenshot of the serial plotter output. You should now see the sine wave with a value in mV on the y-axis and it should match the settings in the M2K's signal generator. \n",
    "1. Copy your final Arduino code into a Markdown code block. \n",
    "\n",
    "**Insert cell or cells below to record your answers**"
   ]
  },
  {
   "cell_type": "markdown",
   "metadata": {},
   "source": [
    "# Task 6: Build the LED Light source\n",
    "The red LED is used to illuminate the finger in the pulse sensor. The LED will always be on (not pulsed) so it can be connected to the 5V Power from Arduino, rather than a digital output.\n",
    "![Schematic for LED Source](Fig_Source_Schematic.PNG)\n",
    "\n",
    "![LED mounted to Jumper assembly](Fig_LED_assembly.jpg)\n",
    "\n",
    "1. Attach the LED to the long male-female jumper cable. The assembly should look similar to the one above. Use tape to keep the LED from falling out. It does not need to be transparent tape.\n",
    "1. Build the circuit. You should see the LED light up brightly.\n",
    "1. Assuming the Red LED has a 1.8 V forward biased voltage drop (meaning the LED turns ON at around 1.8 V). How much current do you estimate is passing through the LED?  How does this compare to the absolute maximum rating of 50 mA ([see PDF datasheet](https://cree-led.com/media/documents/C503B-RAS-RAN-AAS-AAN-RBS-RBN-ABS-ABN-RCS-RCN-ACS-ACN-1079.pdf))? \n",
    "1. According to the [manufacturer's specifications](https://www.digikey.com/en/products/detail/cree-inc/C503B-RCN-CW0Z0AA2/6138549), what wavelength does the LED emit most brightly?\n",
    "\n",
    "\n",
    "**Insert cell or cells below to record your answers**"
   ]
  },
  {
   "cell_type": "markdown",
   "metadata": {
    "nbgrader": {
     "grade": false,
     "grade_id": "cell-cc0b104e19f27581",
     "locked": true,
     "points": 2,
     "schema_version": 3,
     "solution": false,
     "task": true
    }
   },
   "source": [
    "# Task 7: Build the transimpedance amplifier (1st stage)\n",
    "This is the full detector diagram. You only build the 1st stage in the dashed box.  \n",
    "![Full Schematic for Pulse Sensor](Diagram_Pulse_Sensor_Schematic_Clean.PNG)\n",
    "\n",
    "#### LM 358 Op-amp\n",
    "\n",
    "The circuit uses LM358 op-amps because they work well with a single-sided supply (the negative supply is at ground). This means the Arduino can provide the supply voltages: $V_\\textrm{S}+ = 5 \\textrm{ V}$ and $V_\\textrm{S}- = 0 \\textrm{ V}$ (ground). \n",
    "\n",
    "![Pin diagram for the LM358](LM358_pin_configuration.PNG)\n",
    "\n",
    "The LM 358 has two op-amps integrated on a single chip. They use the same power supply, but have separate inputs and outputs. \n",
    "* IN1-, IN1+, OUT1 are for the 1st op-amp\n",
    "* IN2-, IN2+, OUT2 are for the 2nd op-amp\n",
    "\n",
    "#### What is a transimpedance amplifier?\n",
    "\n",
    "The first stage of the circuit is known as a transimpedance amplifier, which is a current to voltage converter. The photodiode produces a current in response to the amount of incident light. The transimpedance amplifier converts that to a proportional voltage.\n",
    "\n",
    "### Subtasks\n",
    "\n",
    "1. **Theory question** How much current does the photodiode need to produce for a 1V output from this transimpedance amplifier?\n",
    "1. **Build the circuit.** Use IN1-, IN1+, and OUT1 for the build today. We will use IN2+, IN2-, and OUT2 next week as you build more of the circuit.\n",
    "1. **Quick testing:** If you block the light from reaching the photodiode, does the voltage drop? If you shine the LED (Task 4) onto the photodiode, does it saturate the amplifier output?\n",
    "1. **Save and upload a screenshot from the Serial Plotter** as you vary the illumination on the photodiode. Proof it is working okay.\n",
    "1. **Similar to previous subtask, measure the output voltage using the M2K oscilloscope.** Use a longer time scale, like 200 ms/div or 500 ms/div so you capture several seconds of the output. Upload and plot the data in your Jupyter notebook.\n",
    "\n",
    "#### Example output of transimpedance amplifier (as measured by the M2K oscilloscope)\n",
    "Saturation occurs when the LED shines on detector (even just a bit). Ambient light in the room produced a 3 V output, but this will vary depending on your room's lighting. Dips to 1 V were caused by a finger covering the LED.\n",
    "![Example output of the transimpedance amplifier](Fig_example_transimpedance_amplifier_output.PNG)\n",
    "\n",
    "\n",
    "**Insert cell or cells below to record your answers**"
   ]
  },
  {
   "cell_type": "code",
   "execution_count": null,
   "metadata": {},
   "outputs": [],
   "source": []
  }
 ],
 "metadata": {
  "celltoolbar": "Create Assignment",
  "kernelspec": {
   "display_name": "Python 3 (ipykernel)",
   "language": "python",
   "name": "python3"
  },
  "language_info": {
   "codemirror_mode": {
    "name": "ipython",
    "version": 3
   },
   "file_extension": ".py",
   "mimetype": "text/x-python",
   "name": "python",
   "nbconvert_exporter": "python",
   "pygments_lexer": "ipython3",
   "version": "3.8.10"
  }
 },
 "nbformat": 4,
 "nbformat_minor": 4
}
