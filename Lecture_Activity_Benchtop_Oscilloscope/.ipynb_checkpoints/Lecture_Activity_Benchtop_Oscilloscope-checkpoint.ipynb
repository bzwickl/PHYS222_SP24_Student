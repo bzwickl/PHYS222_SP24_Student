{
 "cells": [
  {
   "cell_type": "markdown",
   "id": "700644c4",
   "metadata": {},
   "source": [
    "# Lecture Activity - Using Benchtop Oscilloscopes and Triple Output Power Supplies\n",
    "\n",
    "#### Make sure to submit when you are done! Full-points will be awarded for participation.\n",
    "\n",
    "* Each student should build their own version of the circuit and get it working with the M2K.\n",
    "* Students will work in pairs\n",
    "* Each table has two setups\n",
    "    * Oscilloscope only - Tasks 1 and 2\n",
    "    * Oscilloscope and Triple Output Power Supply - Tasks 3 and 4\n",
    "* Some groups will start on Tasks 1 and 2, the other groups on Tasks 3 and 4. Then switch after 25-30 minutes.  "
   ]
  },
  {
   "cell_type": "markdown",
   "id": "7eca0aa7",
   "metadata": {},
   "source": [
    "## Task 1: Build the RC circuit using the M2K as the signal generator and oscilloscope\n",
    "This activity is a repeat of Lab 2 Task 1.\n",
    "* Each student should build their own version of the circuit and verify their measurements using the M2K.\n",
    "* Meausre the input square wave and the voltage across the capacitor (which should be charging and discharging).\n",
    "<img src=\"Fig_RC_circuit_task_1.png\" alt=\"Diagram for RC circuit\" > "
   ]
  },
  {
   "cell_type": "markdown",
   "id": "a56c9a9b",
   "metadata": {},
   "source": [
    "## Task 2: Also take measurements using the benchtop oscilloscope\n",
    "\n",
    "**Partners will need to take turns with the oscilloscope on their own circuit**\n",
    "\n",
    "1. While you are taking measurements of the circuit with the M2K, also connect the benchtop oscilloscope. You connect scope to board via jumper wires connected to minigrabbers connected to the BNC input on the oscilloscope. These can be used just like the oscilloscope jumper wires on the M2K. \n",
    "1. Adjust the time scale and voltage scale until you see something similar to the M2K. \n",
    "1. Additional features to practice\n",
    "    * Adjust the trigger level. What happens if it goes above or below the signal?\n",
    "    * Read the amplitude from the voltage scale.\n",
    "    * Use measurement tools to see the peak-to-peak amplitude and the period. \n",
    "    * Use cursors to measure a voltage difference or a time difference. \n",
    "1. *Take a photo of the benchtop oscilloscope display showing your measurement and include in Task 2.**\n",
    "\n",
    "\n",
    "**Note if you finish Task 2 early:** If you finish Task 2, start building circuit for Task 3 while you are waiting for the benchtop supply.\n",
    "\n"
   ]
  },
  {
   "cell_type": "markdown",
   "id": "ec00a47a",
   "metadata": {},
   "source": [
    "## Task 3: Build and test the 10x inverting amplifier with the M2K\n",
    "This activity is a repeat of Lab 7, task 2. \n",
    "1. Each partner should build the 10x inverting amplifier. \n",
    "1. Build and test the circuit using the M2K.\n",
    "    * Use a 200 mV PP amplitude, 10 kHz sine wave as the input. \n",
    "    * Measure the input sine wave and the amplifier's output at the same time (which should be 10x and inverting).\n",
    "\n",
    "<img alt=\"10x inverting amplified schematic\" src=\"Fig_Lab7_Task2.png\" width=600>\n",
    "<img src=\"Diagram_741_op_amp_pins.PNG\" alt=\"Pin diagram for 741 op-amp\" width=300>"
   ]
  },
  {
   "cell_type": "markdown",
   "id": "23e48516",
   "metadata": {},
   "source": [
    "## Activity 4a: Use the benchtop power supply to power the op-amp\n",
    "**4a and 4b can be done in parallel by the two lab partners**\n",
    "\n",
    "<img  alt=\"Benchtop Power Supply\" src=\"Fig_Power_Supply.png\" width=500>\n",
    "\n",
    "1. Set the benchtop triple output power supply to about 5 V (same as max on the M2K)\n",
    "1. In the circuit, replace the M2K's positive and negative power supplies with the benchtop supply.\n",
    "1. On your breadboard, make sure the benchtop supply's COM is connected to the ground on the M2. This sets the \"zero\" voltage of M2K and power supply in common.\n",
    "1. Increase the signal generator amplitude 2 V peak-to-peak. The output should be 20 V peak-to-peak, but the op-amp output will saturate near the power supply voltage.\n",
    "1. Adjust the power supply output voltage to as high as 15 or 20 volts and watch how the output changes as you adjust the supply voltage. Does the amplified signal still saturate? \n",
    "1. **Take a photo of the benchtop oscilloscope display showing your measurement and include in Task 4.**\n",
    "\n"
   ]
  },
  {
   "cell_type": "markdown",
   "id": "3a3a2118",
   "metadata": {},
   "source": [
    "## Activity 4b: Measure the amplifier input and output using both benchtop oscilloscope channels\n",
    "**4a and 4b can be done in parallel by the two lab partners**\n",
    "\n",
    "1. Connect the benchtop oscilloscope channels 1 and 2 to the circuit to measure the input and output.\n",
    "1. Adjust scales so you can see the input and output at the same time.\n",
    "1. Trigger on the square wave. Adjust between triggering on rising and falling. \n",
    "1. Try adjusting the **signal generator frequency** on the M2K by a factor of 10 and adjust the oscilloscope accordingly.\n",
    "\n"
   ]
  }
 ],
 "metadata": {
  "kernelspec": {
   "display_name": "Python 3 (ipykernel)",
   "language": "python",
   "name": "python3"
  },
  "language_info": {
   "codemirror_mode": {
    "name": "ipython",
    "version": 3
   },
   "file_extension": ".py",
   "mimetype": "text/x-python",
   "name": "python",
   "nbconvert_exporter": "python",
   "pygments_lexer": "ipython3",
   "version": "3.8.10"
  }
 },
 "nbformat": 4,
 "nbformat_minor": 5
}
