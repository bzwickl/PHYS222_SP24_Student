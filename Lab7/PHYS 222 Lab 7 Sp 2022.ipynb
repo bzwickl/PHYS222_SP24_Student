{
 "cells": [
  {
   "cell_type": "markdown",
   "metadata": {
    "nbgrader": {
     "grade": false,
     "grade_id": "cell-e80e39b5adb12a9d",
     "locked": true,
     "schema_version": 3,
     "solution": false,
     "task": false
    }
   },
   "source": [
    "# Lab 7 - Op-amp introduction\n",
    "### PHYS 222, Spring 2022, Dr. Ben Zwickl\n",
    "\n",
    "### Goals\n",
    "* **Build a 10x inverting amplifier**\n",
    "    * Learn how to hook up a UA741 Op-amp\n",
    "* **Observe performance limitatations**\n",
    "    * Saturation (clipping)\n",
    "    * Slew rate (how fast the voltage can change)\n",
    "    * Bandwidth of the amplifier\n",
    "    * Gain bandwidth product\n",
    "* **CircuitLab simulation** of the 10x inverting amplifier\n",
    "\n",
    "    \n"
   ]
  },
  {
   "cell_type": "code",
   "execution_count": 1,
   "metadata": {},
   "outputs": [],
   "source": [
    "# load packages at the top of your notebook. \n",
    "# We will always use numpy and matplotlib.pyplot.\n",
    "# In future weeks, you should add these lines yourself\n",
    "\n",
    "import numpy as np\n",
    "import matplotlib.pyplot as plt"
   ]
  },
  {
   "cell_type": "markdown",
   "metadata": {
    "nbgrader": {
     "grade": false,
     "grade_id": "cell-4e879e17a25dcb38",
     "locked": true,
     "points": 1,
     "schema_version": 3,
     "solution": false,
     "task": true
    }
   },
   "source": [
    "# Task 1: Copy your `load_waveform` function from Lab 3\n",
    "\n",
    "**Insert cell or cells below to record your answers**"
   ]
  },
  {
   "cell_type": "code",
   "execution_count": 3,
   "metadata": {
    "nbgrader": {
     "grade": false,
     "grade_id": "cell-baeda6141519cd0a",
     "locked": true,
     "schema_version": 3,
     "solution": false,
     "task": false
    }
   },
   "outputs": [
    {
     "data": {
      "image/png": "[encoded data removed]",
      "text/plain": [
       "<Figure size 432x288 with 1 Axes>"
      ]
     },
     "metadata": {
      "needs_background": "light"
     },
     "output_type": "display_data"
    }
   ],
   "source": [
    "# RUN THESE TEST CASES BUT DON'T EDIT THEM\n",
    "\n",
    "### Test cases for load_waveform\n",
    "data = load_waveform(\"Sample_Scopy_Data.csv\")\n",
    "assert len(data) == 3        # make sure the function returns a list of 3 things\n",
    "t, ch1, ch2 = data            # unpack for analysis\n",
    "assert len(t) == len(ch1) == len(ch2) == 3200  # check length of imported data set\n",
    "assert abs(ch1.mean() - -0.0033719303437499894)/-0.0033719303437499894 < 1e-4  # check the values on ch1\n",
    "assert (np.mean( np.abs(ch2) ) - 0.5011812406249)/ 0.5011812406249 < 1e-4  # check the values on ch2\n",
    "assert abs( (t.min() - (-0.0016)) ) /abs(-0.0016) < 1e-4   # check the min time"
   ]
  },
  {
   "cell_type": "markdown",
   "metadata": {
    "nbgrader": {
     "grade": false,
     "grade_id": "cell-8830f6a6f36a4a18",
     "locked": true,
     "points": 2,
     "schema_version": 3,
     "solution": false,
     "task": true
    }
   },
   "source": [
    "# Task 2: Build the 10x inverting amplifier op-amp circuit\n",
    "\n",
    "This lab uses a general purpose op-amp, the Texas Instruments UA741. You can download the full [data sheet and specifications](https://www.ti.com/lit/ds/symlink/ua741.pdf) from TI. \n",
    "\n",
    "![10x inverting amplified schematic](Fig_Lab7_Task2.png)\n",
    "\n",
    "**This circuit uses 5 out of the 8 pins:**\n",
    "* In+, labeled +  on the schematic, is the \"non-inverting input\"\n",
    "* In-, labeled - on the schematic, is the \"inverting input\"\n",
    "* Out, is the output\n",
    "* VCC+ is the positive supply voltage. In our case, the M2K V1 (red wire) is set to +5V\n",
    "* VCC- is the negative supply voltage. In our case, the M2K V2 (white wire) is set to -5V\n",
    "\n",
    "![TI-741 Pin diagram](Diagram_741_op_amp_pins.PNG)\n",
    "\n",
    "#### Subtasks\n",
    "1. Build the circuit\n",
    "1. For a test of the G = -10 amplifier, use a 1 kHz sine wave with Vpp = 100 mV. Plot both the input and output signals and make sure the gain is approximately -10x.\n",
    "1. Import a data set and plot in your notebook. \n",
    "1. Calculate the magnitude of the **gain** based on your imported data. You can use `np.std` to characterize the root-mean-squared (RMS) amplitude of the input and output. \n",
    "\n",
    "#### Video tutorial\n",
    "* If you want to see Dr. Zwickl build a similar circuit, you can [watch a video](https://youtu.be/nvzttptphLk).\n",
    "\n",
    "**Insert cell or cells below to record your answers**"
   ]
  },
  {
   "cell_type": "markdown",
   "metadata": {
    "nbgrader": {
     "grade": false,
     "grade_id": "cell-ec2d5c76f0f2292a",
     "locked": true,
     "points": 2,
     "schema_version": 3,
     "solution": false,
     "task": true
    }
   },
   "source": [
    "# Task 3: Saturation of the output \n",
    "\n",
    "The -10x amplifier can't output arbitrarily large voltages. In fact, The output cannot exceed the supply voltages, v1 (VCC+) and V2 (VCC-).\n",
    "1. For an input signal of 1 Vpp, make a plot of the output waveform. \n",
    "1. What are the most positive and most negative voltages in the output?  These are known as the saturation voltages.\n",
    "1. How does the saturation voltage compare to the power supply voltages VCC+ and VCC-?\n",
    "**Insert cell or cells below to record your answers**"
   ]
  },
  {
   "cell_type": "markdown",
   "metadata": {
    "nbgrader": {
     "grade": false,
     "grade_id": "cell-f2426c5d5f309e31",
     "locked": true,
     "points": 2,
     "schema_version": 3,
     "solution": false,
     "task": true
    }
   },
   "source": [
    "# Task 4: Slew rate\n",
    "\n",
    "Real world op-amps can't change their voltage arbitrarily fast. The maximum rate (often specified in volts per microsecond) is known as the slew rate of the op-amp. According to the UA741 data sheet, the slew rate is around 0.5 V/$\\mu$s = 500,000 V/s. However the data sheet test circuit was a gain = 1 amplifier, so your measured slew rate could be different by a factor of 2 or more.\n",
    "\n",
    "1. Change the input to a **square wave** (It is the waveform with fastest rise/fall time). \n",
    "1. Set amplitude to something larger than 100 mVpp, but don't saturate the output. \n",
    "1. If you set the frequency higher, between 20 kHz - 100 kHz, you should start to see behavior where the amplifier clearly doesn't reproduce the square wave. It is most noticable at higher frequencies. \n",
    "1. Import and plot a data set that shows the slew rate.\n",
    "1. In Scopy, use cursors or any other method to measure the slope. The \"track\" cursors can give both a $\\Delta x$ and $\\Delta y$ with one measurement.\n",
    "\n",
    "**Insert cell or cells below to record your answers**"
   ]
  },
  {
   "cell_type": "markdown",
   "metadata": {
    "nbgrader": {
     "grade": false,
     "grade_id": "cell-95de828a721f83e9",
     "locked": true,
     "points": 2,
     "schema_version": 3,
     "solution": false,
     "task": true
    }
   },
   "source": [
    "# Task 5: Gain vs frequency (for 10x inverting)\n",
    "\n",
    "The inverting amplifier works well at lower frequencies, but not so well at high frequenices. This task will characterize the frequency response of the inverting amplifier.\n",
    "\n",
    "1. Similar to Lab 5, use the **Network Analyzer** feature of the Scopy software to generate a Bode plot of gain and phase.\n",
    "    1. See these [images of the Scopy Network Analyzer settings](Scopy_Network_Analyzer_settings.png) if you are sure how to access it.\n",
    "    1. Set the Reference channel to whichever channel is the input.\n",
    "    1. Amplitude can be around 200 mV. This is the amplitude of $V_\\textrm{in}$ and is kept constant as the frequency is varied. \n",
    "    1. Pick stop and start frequencies to cover around 100 Hz to 1 MHz.\n",
    "    1. Make sure your \"Samples Count\", which sets the numstep size is small enough to generate a smooth Bode plot, but not so long it takes too long to obtain a data set.\n",
    "    1. **Save** the CSV of the gain and phase data .\n",
    "    1. **Import** your CSV of the Bode plot and **plot your data in Python** (again, similar to Lab 5).\n",
    "1. Based on the graph, determine the 3 dB frequency, which is where the gain decreases below the ideal (low-frequency) gain by 3 dB. This corresponds to 1/2 power or $1/\\sqrt{2} \\approx 0.707$ times amplitude of the low frequency gain.\n",
    "1. Determine the gain-bandwidth product, which is the product of the 3 dB frequency and the gain at that same frequency (as a multiplier, not as dB). \n",
    "    * The data sheet shows a gain-bandwidth product of about 1 MHz. How does your data compare?\n",
    "1. What is the phase shift between input and output for a frequency well below the 3 dB point (e.g., 1 kHz) and a frequency well above (e.g., 200 kHz)?\n",
    "\n",
    "**Insert cell or cells below to record your answers**"
   ]
  },
  {
   "cell_type": "markdown",
   "metadata": {
    "nbgrader": {
     "grade": false,
     "grade_id": "cell-c5d34d7602bcb4df",
     "locked": true,
     "points": 2,
     "schema_version": 3,
     "solution": false,
     "task": true
    }
   },
   "source": [
    "# Task 6: Gain vs frequency for the 21x inverting amplifier. \n",
    "\n",
    "Replace the 47 kOhm resistor with a 100k Ohm resistor. This should increase the low-frequency gain from 10x to 100k / 4.7k = 21x. In other words, with the new resistor the circuit should have double the voltage gain of the other circuit. However, this should decrease the bandwidth of the amplifier by the same ratio (i.e., bandwidth cut in half). \n",
    "\n",
    "The data collection and analysis is almost identical to Task 5, however, you don't need to take phase measurements. Much of the analysis code is very similar between Tasks 5 and 6 so reuse what makes sense.\n",
    "\n",
    "1. Take data and make plots in Python similar to Task 5. \n",
    "1. Based on the graph, determine the 3 dB frequency, which is where the gain is decreased from low-frequency gain by 3 dB). This corresponds to 1/2 power or $1/\\sqrt{2} \\approx 0.707$ times amplitude of the low frequency gain.\n",
    "1. Determine the gain-bandwidth product, which is the product of the 3 dB frequency and the gain at that same frequency (as a number, not as dB). \n",
    "1. How does the gain-bandwidth product compare for the 10x and 21x inverting amplifiers?\n",
    " \n",
    "\n",
    "**Insert cell or cells below to record your answers**"
   ]
  },
  {
   "cell_type": "markdown",
   "metadata": {
    "nbgrader": {
     "grade": false,
     "grade_id": "cell-91d360dc96746e6a",
     "locked": true,
     "points": 2,
     "schema_version": 3,
     "solution": false,
     "task": true
    }
   },
   "source": [
    "# Task 7: CircuitLab simulation of 10x inverting amplifier\n",
    "\n",
    "In this task you will simulate the circuit and experimental data for Task 2.\n",
    "\n",
    "1. Add an Op-amp with power supply \n",
    "1. Your diagram will need 3 sources\n",
    "    * A sine wave for the waveform generator (set same as in Task 2)\n",
    "    * A positive DC supply (try +5 and +12)\n",
    "    * A negative DC supply (try -5 and -12)\n",
    "1. Run a transient simulation for several periods of the oscillation.\n",
    "1. Measure the voltage at the input and output\n",
    "1. Upload and include screenshots of\n",
    "    * Circuitlab schematic\n",
    "    * Simulation results\n",
    "\n",
    "Note: If you set the supply voltage to the actual value used in the experiment, the results may not agree with experiment for +-5 V supply voltage. The Op-amp model is not as accurate as other simulators like LTSpice. LTSpice lets you import a specific device file for each specific op-amp. CircuitLab does not have that capability. However, if the supply voltage is large enough (e.g., +-12 V) the circuit behavior agreed with expectation.\n",
    "\n",
    "**Insert cell or cells below to record your answers**"
   ]
  }
 ],
 "metadata": {
  "celltoolbar": "Create Assignment",
  "kernelspec": {
   "display_name": "Python 3 (ipykernel)",
   "language": "python",
   "name": "python3"
  },
  "language_info": {
   "codemirror_mode": {
    "name": "ipython",
    "version": 3
   },
   "file_extension": ".py",
   "mimetype": "text/x-python",
   "name": "python",
   "nbconvert_exporter": "python",
   "pygments_lexer": "ipython3",
   "version": "3.8.10"
  }
 },
 "nbformat": 4,
 "nbformat_minor": 4
}
