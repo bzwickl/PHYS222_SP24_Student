{
 "cells": [
  {
   "cell_type": "markdown",
   "metadata": {},
   "source": [
    "# MOSFET Activty 2 - Switching Action\n",
    "\n",
    "#### Make sure to submit when you are done! Full-points will be awarded for participation.\n",
    "\n",
    "\n",
    "In the previous lecture activity, we measured our MOSFET's IV curve, which was measured for 2 different gate voltages (3.5 and 5 V)\n",
    "\n",
    "![Example IV curve](Fig_Example_IV_curve.png)\n",
    "\n",
    "We also determined that the threshold voltage $V_\\textrm{Th}$ was around 1.5 V. Meaning that unless the gate voltage exceeds 1.5 V, then no current will flow between Drain and Source. "
   ]
  },
  {
   "cell_type": "markdown",
   "metadata": {},
   "source": [
    "## Pin diagram\n",
    "The CD4007 has 6 transistors on a single chip (3 n-channel, 3 p-channel). We will use pins 6, 7, and 8 for this activity, though you could use any of the other n-channel transistors and get similar results. \n",
    "<img src=\"FIG_CD4007_pin_diagram.png\" width=\"900\">"
   ]
  },
  {
   "cell_type": "markdown",
   "metadata": {},
   "source": [
    "## Demonstrating switching action\n",
    "In this activity, the MOSFET will be used to switch an LED on and off. \n",
    "\n",
    "The schematic is the same for all tasks, though the Gate Voltage will be changed between some tasks.\n",
    "\n",
    "![Circuit diagram](Fig_Week12b_LED_switch.PNG)\n",
    "\n",
    "The connections from the M2K are similar to the previous MOSFET activity, though the voltage settings are different.\n",
    "\n",
    "* voltage applied to the **drain side** with the LED: V1, Positive DC power supply V+ is +4 V\n",
    "* voltage applied to the **gate** (W1, wavegen, Amplitude = 3 Vpp)\n",
    "* voltage applied to the **source** (DC power supply Negative V-, fixed at -3 V)\n",
    "\n",
    "**Note:** Unlike most of our circuits, the ground wire from M2K to the circuit does not get connected. The V- negative power supply is the \"return\" for the current instead of ground. All 3 voltage sources already share a common ground in the M2K. "
   ]
  },
  {
   "cell_type": "markdown",
   "metadata": {},
   "source": [
    "# Task 1: DC offset = -1.5 V, f = 1 Hz, Amplitude  = 3 Vpp, square wave\n",
    "\n",
    "#### Notes on the waveform generator settings\n",
    "\n",
    "* If the DC offset is -1.5 V and the amplitude is 3 Vpp, the output voltage will vary between -3 and 0 V. \n",
    "* Thus $V_\\textrm{GS} = V_\\textrm{G} - V_\\textrm{S} = V_\\textrm{G} - (-3 \\textrm{ V})$ will vary between 0 and 3 V.  \n",
    "* If $V_\\textrm{GS} < 1.5 V$ (below threshold) the current is cut off and the transistor is \"Off\"\n",
    "\n",
    "1. Is the LED off for a half-cycle, and then on for a half cycle?\n",
    "1. Explain"
   ]
  },
  {
   "cell_type": "markdown",
   "metadata": {},
   "source": [
    "# Task 2: DC offset = -1.5 V, f = 1 Hz, Amplitude  = 3 Vpp, sine wave\n",
    "\n",
    "1. What changes in the LED's brightness pattern when you change from square wave to sine wave?"
   ]
  },
  {
   "cell_type": "markdown",
   "metadata": {},
   "source": [
    "# Task 3: DC offset = 0 V, f = 1 Hz, Amplitude  = 3 Vpp, sine wave\n",
    "\n",
    "1. What changes in the LED's brightness pattern when you increase the DC offset to 0 V? Explain what you see in terms of the IV curve."
   ]
  },
  {
   "cell_type": "markdown",
   "metadata": {},
   "source": [
    "# Task 4: Can you visually distinguish blank patterns for different waveforms? \n",
    "\n",
    "1. Try switching between sine, square, triangle and sawtooth. Can you visually distinguish the blink patterns?"
   ]
  },
  {
   "cell_type": "markdown",
   "metadata": {},
   "source": [
    "# Task 5: At what frequency can you no longer see distinct blinks?\n",
    "Try increasing the waveform frequency to make the LED blink on and off more quickly. \n",
    "\n",
    "1. At what frequency do the blinks blur into a continuous light source?"
   ]
  },
  {
   "cell_type": "code",
   "execution_count": null,
   "metadata": {},
   "outputs": [],
   "source": []
  }
 ],
 "metadata": {
  "kernelspec": {
   "display_name": "Python 3 (ipykernel)",
   "language": "python",
   "name": "python3"
  },
  "language_info": {
   "codemirror_mode": {
    "name": "ipython",
    "version": 3
   },
   "file_extension": ".py",
   "mimetype": "text/x-python",
   "name": "python",
   "nbconvert_exporter": "python",
   "pygments_lexer": "ipython3",
   "version": "3.8.10"
  }
 },
 "nbformat": 4,
 "nbformat_minor": 4
}
