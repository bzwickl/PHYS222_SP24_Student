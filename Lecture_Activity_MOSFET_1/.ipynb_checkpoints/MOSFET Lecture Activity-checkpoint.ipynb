{
 "cells": [
  {
   "cell_type": "markdown",
   "metadata": {},
   "source": [
    "# Characterization of a Metal Oxide Semiconductor Field Effect Transistor\n",
    "\n",
    "### This activity is graded on effort. Make sure to submit by the end of class!\n",
    "* Making good progress is sufficient for full credit. \n",
    "* I think everyone will succeed and get close to finishing the whole activity, but if not, don't worry. The activity should work fine. If you finish early and your data looks similar to the examples. You can leave.\n",
    "\n",
    "![IV curve](Fig_IV_data_CD4007_data_sheet.PNG)\n",
    "\n",
    "### Our goal \n",
    "Measure a few characteristics of the MOSFET and the relationship between three variables:\n",
    "1. $I_\\textrm{D}$, the drain current, which is the large current flowing into the transistor\n",
    "1. $V_\\textrm{DS}$ the voltage drop across the transistor between drain and source.\n",
    "1. $V_\\textrm{GS}$ the gate voltage with respect to the source. \n",
    "\n",
    "### The three regimes we observe are\n",
    "1. **The cutoff regime** If the gate voltage $V_\\textrm{GS}$ is too low, the current is cut off, even for a substantial voltage drop between drain and source.\n",
    "1. **The Ohmic Regime** For small $V_\\textrm{DS}$, there is a linear relationship between the voltage drop across the transistor and the current flowing through it (i.e., drain current $I_\\textrm{D}$)  \n",
    "1. **The Saturation Regime** For large $V_\\textrm{DS}$, the drain current is constant (it saturates), though current will increase with gate voltage.\n",
    "\n",
    "All of these features can be seen in the IV curve example above as shown in the schematic from the data sheet.\n",
    "\n",
    "In this activity, you will take your own data and make a plot of the IV curve."
   ]
  },
  {
   "cell_type": "markdown",
   "metadata": {},
   "source": [
    "## Schematic\n",
    "![MOSFET Schematic](Fig_mosfetactivity.png)\n",
    "In order to get a large enough range of voltage values, we will use both positive and negative voltages from the different outputs. "
   ]
  },
  {
   "cell_type": "markdown",
   "metadata": {},
   "source": [
    "## Pin diagram\n",
    "The CD4007 has 6 transistors on a single chip (3 n-channel, 3 p-channel). We will use pins 6, 7, and 8 for this activity, though you could use any of the other n-channel transistors and get similar results. \n",
    "<img src=\"FIG_CD4007_pin_diagram.png\" width=\"900\">"
   ]
  },
  {
   "cell_type": "markdown",
   "metadata": {},
   "source": [
    "## Example data for Tasks 1 and 2\n",
    "![Example IV curve](Fig_Example_IV_curve.png)"
   ]
  },
  {
   "cell_type": "markdown",
   "metadata": {},
   "source": [
    "# Task 1: Measure the $I_\\textrm{D}$ vs $V_\\textrm{DS}$ curve for fixed $V_\\textrm{GS} =  3.5\\textrm{ V}$\n",
    "\n",
    "In order to get a large range of drain-source voltages, we will need to use $V_\\textrm{S}$ both zero and negative, while $V_\\textrm{D}$ will range from 0 to 5 V.\n",
    "\n",
    "### Settings for $V_{DS}$ 0-5 V\n",
    "* **Source voltage (DC power supply 2, V-)**: $V_\\textrm{S}$ = 0 V\n",
    "* **Gate voltage (wage gen)**: 3.5 V, so that voltage difference between gate and source is $V_\\textrm{GS}$ = +3.5 V\n",
    "* **Drain voltage (DC power supply 1)**: ranges from 0 V to 5 V, so that $V_\\textrm{DS}$ ranges from 0 to 8 V. \n",
    "\n",
    "Because the Ohmic region is brief, you will want to use smaller voltage steps when $V_\\textrm{DS}$ is small.\n",
    "\n",
    "### Steps:\n",
    "1. In a text file or CSV spreadsheet, record \n",
    "    * voltage applied to the drain (DC power supply 1). Suggested values: 0, 0.25, 0.5, 0.75, 1.0, 1.5, 2, 3, 4, 5\n",
    "    * voltage applied to the gate (wavegen, fixed at 3.5 V)\n",
    "    * voltage applied to the source (DC power supply 2, fixed at 0 V)\n",
    "    * current measured by the Ammeter (mA setting)\n",
    "1. import the data using `np.genfromtxt()`\n",
    "1. Plot the Drain current $I_\\textrm{D}$ vs the Drain-Source voltage $V_\\textrm{DS}$. Make sure to add a label showing $V_{GS}$\n",
    "\n",
    "### Extra challenge if you finish early: Add two additional data points for $V_{DS} =$  7 and 10 V\n",
    "You must select different values for $V_S$, $V_D$, and $V_G$ to provide the two extra data points, while keeping $V_{GS}$ = 3.5 V. Remember: \n",
    "* V+ on the M2K (used for drain voltage, $V_D$) can only go 0 to 5 V. \n",
    "* V- on the M2K (used for source voltage, $V_S$) can only go -5 to 0 V\n",
    "* W1 on the M2K (used for gate voltage, $V_G$) can go -5 to 5 V"
   ]
  },
  {
   "cell_type": "code",
   "execution_count": 1,
   "metadata": {},
   "outputs": [],
   "source": [
    "import numpy as np\n",
    "import matplotlib.pyplot as plt"
   ]
  },
  {
   "cell_type": "markdown",
   "metadata": {},
   "source": [
    "# Task 2: Measure the $I_\\textrm{D}$ vs $V_\\textrm{DS}$ curve for fixed $V_\\textrm{GS} =  5\\textrm{ V}$\n",
    "\n",
    "Task 2 is identical to Task 1, but we increase the gain voltage to a higher fixed value. \n",
    "\n",
    "### Settings\n",
    "* **Source voltage (DC power supply 2)**: $V_\\textrm{S}$ = 0 V\n",
    "* **Gate voltage (wage gen)**: +5 V, so that voltage difference between gate and source is $V_\\textrm{GS}$ = +5 V\n",
    "* **Drain voltage (DC power supply 1)**: ranges from 0 V to 5 V, so that $V_\\textrm{DS}$ ranges from 0 to 5 V. \n",
    "\n",
    "Because the Ohmic region is brief, you will want to use smaller voltage steps when $V_\\textrm{DS}$ is small, similar to Task 1."
   ]
  },
  {
   "cell_type": "code",
   "execution_count": 14,
   "metadata": {
    "scrolled": true
   },
   "outputs": [
    {
     "name": "stdout",
     "output_type": "stream",
     "text": [
      "VGS =  [3.5 3.5 3.5 3.5 3.5 3.5 3.5 3.5 3.5 3.5 3.5 3.5]\n",
      "VGS =  [5. 5. 5. 5. 5. 5. 5. 5. 5. 5. 5. 5.]\n"
     ]
    },
    {
     "data": {
      "image/png": "[encoded data removed]",
      "text/plain": [
       "<Figure size 432x288 with 1 Axes>"
      ]
     },
     "metadata": {
      "needs_background": "light"
     },
     "output_type": "display_data"
    }
   ],
   "source": [
    "# Task 1 graph\n",
    "data1 = np.genfromtxt(\"Task_1.csv\", skip_header=1, delimiter = \",\")\n",
    "VS = data1[:,0]\n",
    "VD = data1[:,1]\n",
    "VG = data1[:,2]\n",
    "iD = data1[:,3]\n",
    "VDS = VD - VS\n",
    "VGS = VG - VS\n",
    "print(\"VGS = \", VGS)\n",
    "plt.plot(VDS, iD, '--o', label=\"V_{GS} = 3.5 V\")\n",
    "plt.xlabel(\"$V_{DS}$ (V), Drain-Source voltage\")\n",
    "plt.ylabel(\"$I_D$ (mA), Drain current\")\n",
    "plt.legend()\n",
    "\n",
    "# Task 2 graph\n",
    "data2 = np.genfromtxt(\"Task_2.csv\", skip_header=1, delimiter = \",\")\n",
    "VS = data2[:,0]\n",
    "VD = data2[:,1]\n",
    "VG = data2[:,2]\n",
    "iD = data2[:,3]\n",
    "VDS = VD - VS\n",
    "VGS = VG - VS\n",
    "print(\"VGS = \", VGS)\n",
    "plt.plot(VDS, iD, '--o', label=\"V_{GS} = 5.0 V\")\n",
    "plt.xlabel(\"$V_{DS}$ (V), Drain-Source voltage\")\n",
    "plt.ylabel(\"$I_D$ (mA), Drain current\")\n",
    "plt.legend()\n",
    "\n",
    "plt.savefig(\"Fig_Example_IV_curve.png\")"
   ]
  },
  {
   "cell_type": "markdown",
   "metadata": {},
   "source": [
    "# Task 3: Measure the cutoff voltage\n",
    "In this task we keep the drain-source voltage fixed ($V_\\textrm{DS}$ = 5 V) and vary the gate-source voltage $V_\\textrm{GS}$ between 0 and 3 V.\n",
    "\n",
    "### Settings\n",
    "* **Source voltage (DC power supply 2)**: $V_\\textrm{S}$ = -1.5 V\n",
    "* **Gate voltage (wage gen)**: ranges from -1.5 V to +1.5 V. Voltage difference between gate and source $V_\\textrm{GS}$ will range between 0 and 3 V. \n",
    "* **Drain voltage (DC power supply 1)**: 3.5 V so that $V_\\textrm{DS}$ is 5 V.\n",
    "\n",
    "### Example data\n",
    "![Example data showing the cutoff](Fig_example_cutoff_graph.png)"
   ]
  },
  {
   "cell_type": "code",
   "execution_count": 15,
   "metadata": {},
   "outputs": [
    {
     "name": "stdout",
     "output_type": "stream",
     "text": [
      "VDS =  [10. 10. 10. 10. 10. 10. 10. 10. 10. 10. 10. 10. 10.]\n"
     ]
    },
    {
     "data": {
      "text/plain": [
       "Text(0.5, 1.0, 'Cutoff below about 1.5 V, quadratic increase above 1.5 V')"
      ]
     },
     "execution_count": 15,
     "metadata": {},
     "output_type": "execute_result"
    },
    {
     "data": {
      "image/png": "[encoded data removed]",
      "text/plain": [
       "<Figure size 432x288 with 1 Axes>"
      ]
     },
     "metadata": {
      "needs_background": "light"
     },
     "output_type": "display_data"
    }
   ],
   "source": [
    "# Task 1 graph\n",
    "data3 = np.genfromtxt(\"Task_3.csv\", skip_header=1, delimiter = \",\")\n",
    "VS = data3[:,0]\n",
    "VD = data3[:,1]\n",
    "VG = data3[:,2]\n",
    "iD = data3[:,3]\n",
    "VDS = VD - VS\n",
    "VGS = VG - VS\n",
    "print(\"VDS = \", VDS)\n",
    "plt.plot(VGS, iD, '--o', label=\"V_{DS} = 10 V\")\n",
    "plt.xlabel(\"$V_{GS}$ (V), Gate-Source voltage\")\n",
    "plt.ylabel(\"$I_D$ (mA), Drain current\")\n",
    "plt.legend()\n",
    "plt.title(\"Cutoff below about 1.5 V, quadratic increase above 1.5 V\")"
   ]
  },
  {
   "cell_type": "code",
   "execution_count": null,
   "metadata": {},
   "outputs": [],
   "source": []
  }
 ],
 "metadata": {
  "kernelspec": {
   "display_name": "Python 3 (ipykernel)",
   "language": "python",
   "name": "python3"
  },
  "language_info": {
   "codemirror_mode": {
    "name": "ipython",
    "version": 3
   },
   "file_extension": ".py",
   "mimetype": "text/x-python",
   "name": "python",
   "nbconvert_exporter": "python",
   "pygments_lexer": "ipython3",
   "version": "3.8.10"
  }
 },
 "nbformat": 4,
 "nbformat_minor": 4
}
