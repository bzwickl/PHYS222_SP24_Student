{
 "cells": [
  {
   "cell_type": "markdown",
   "id": "90bd2105",
   "metadata": {},
   "source": [
    "# Lab 1 (simple version)"
   ]
  },
  {
   "cell_type": "code",
   "execution_count": 1,
   "id": "98868161",
   "metadata": {},
   "outputs": [
    {
     "data": {
      "text/plain": [
       "6"
      ]
     },
     "execution_count": 1,
     "metadata": {},
     "output_type": "execute_result"
    }
   ],
   "source": [
    "3+3"
   ]
  },
  {
   "cell_type": "markdown",
   "id": "9bb468f3",
   "metadata": {},
   "source": [
    "![image test](Circuit1a.PNG)"
   ]
  },
  {
   "cell_type": "code",
   "execution_count": null,
   "id": "cbb1df91",
   "metadata": {},
   "outputs": [],
   "source": []
  }
 ],
 "metadata": {
  "kernelspec": {
   "display_name": "Python 3 (ipykernel)",
   "language": "python",
   "name": "python3"
  },
  "language_info": {
   "codemirror_mode": {
    "name": "ipython",
    "version": 3
   },
   "file_extension": ".py",
   "mimetype": "text/x-python",
   "name": "python",
   "nbconvert_exporter": "python",
   "pygments_lexer": "ipython3",
   "version": "3.9.12"
  }
 },
 "nbformat": 4,
 "nbformat_minor": 5
}
