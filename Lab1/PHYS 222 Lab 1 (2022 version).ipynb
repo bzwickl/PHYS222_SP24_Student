{
 "cells": [
  {
   "cell_type": "markdown",
   "metadata": {
    "nbgrader": {
     "grade": false,
     "grade_id": "cell-efd5ad681e2e79f6",
     "locked": true,
     "schema_version": 3,
     "solution": false,
     "task": false
    }
   },
   "source": [
    "# Lab 1 - Getting to know your lab kit\n",
    "### PHYS 222, Spring 2024, Drs. Ben Zwickl, Ke Xu, and Michael Pierce\n",
    "\n",
    "## Goals\n",
    "* **Familiarize yourself with the equipment**\n",
    "    * Take measurements of discrete components using a Multimeter\n",
    "    * Build circuits based on diagrams on the breadboard.\n",
    "    * Use the Analog Devices ADALM2000 (M2K for short) as a DC voltage source and oscilloscope.\n",
    "    * Take voltage and current measurements\n",
    "* **Install and use the ADALM2000 hardware and software**\n",
    "    * Connect the USB waveform generator and oscilloscope\n",
    "    * Take an interesting data set using scope (time permitting)\n",
    "    * Use the measurement tools, such as cursors (time permitting)\n",
    "* **Estimate the input impedance of the Multimeter and M2K Analog Inputs**"
   ]
  },
  {
   "cell_type": "markdown",
   "metadata": {
    "nbgrader": {
     "grade": false,
     "grade_id": "cell-75d2d63d4422faa5",
     "locked": true,
     "schema_version": 3,
     "solution": false,
     "task": false
    }
   },
   "source": [
    "# Task 1: ADALM2000 (M2K) Setup (0 pts)\n",
    "\n",
    "If you haven't already installed the M2K on your computer, follow the [quick start installation instructions](https://wiki.analog.com/university/tools/m2k/users/quick_start) from Analog Devices.\n",
    "\n",
    "Follow the 3 steps in the instructions\n",
    "\n",
    "1. Install the drivers (these are needed for the M2K to talk to the computer)\n",
    "1. Plug device in to USB and check things are working\n",
    "1. Install Scopy softtware interface. \n",
    "\n",
    "Also, plug in the small bundle of wires to connect to the 5x2 grid of pins on the left side. These are the pins needed for analog circuits (everything other than digital logic circuits). \n",
    "\n",
    "![M2K Pin Assignments](FIG_adalm2000-pin-wires.png)\n",
    "![M2K with 10-wire bundle connected](FIG_adalm2000-with-wire-bundle-small.PNG)"
   ]
  },
  {
   "cell_type": "markdown",
   "metadata": {
    "nbgrader": {
     "grade": false,
     "grade_id": "cell-30c14ecf949f08f7",
     "locked": true,
     "schema_version": 3,
     "solution": false,
     "task": false
    }
   },
   "source": [
    "### Comment about the digital multimeter (DMM)\n",
    "There are two major functions of the multimeter in this course\n",
    "1. Measuring values of discrete components\n",
    "    * Resistors\n",
    "    * Capacitors\n",
    "    * Diodes\n",
    "1. Measuing voltages and currents within circuits that you've constructed."
   ]
  },
  {
   "cell_type": "markdown",
   "metadata": {
    "nbgrader": {
     "grade": false,
     "grade_id": "cell-c8ad9fa9ed26531b",
     "locked": true,
     "schema_version": 3,
     "solution": false,
     "task": false
    }
   },
   "source": [
    "### Resistor Color Codes\n",
    "You can Google one of these charts really easily. I like [this one](instrumentationtools.com_colour-code-marking-of-leaded-resistors.png\n",
    ") which comes from [this website](https://instrumentationtools.com/iec-labelling-resistors-color-code/) because it shows how the sequence of bands line up with the numbers.\n",
    "<img src=\"instrumentationtools.com_colour-code-marking-of-leaded-resistors.png\" alt=\"resistor color codes\" width=\"500\">"
   ]
  },
  {
   "cell_type": "markdown",
   "metadata": {
    "nbgrader": {
     "grade": false,
     "grade_id": "cell-fe04748268ba1256",
     "locked": true,
     "points": 2,
     "schema_version": 3,
     "solution": false,
     "task": true
    }
   },
   "source": [
    "# Task 2: Using the DMM for resistance (2 pts)\n",
    "\n",
    "1. Measure (and record) the resistance of your body\n",
    "1. Pick one resistor from each of the 3 bags: less than 1 kOhm,  1-9 kOhm, 10 kOhm or higher. Use the chart above (or a similar one) to record the color sequence and determine the nominal resistance and tolerance. \n",
    "1. Measure each resistor with the DMM and record the value\n",
    "1. **Do the color coded resistances agree with DMM measurement within the tolerance? Show your calculations within the Jupyter notebook.**\n",
    "\n",
    "Markdown tables are easy if you want to include them.  I'll give you an example of how you can do it. I also like this website for [Markdown Table generation](https://www.tablesgenerator.com/markdown_tables).  You don't have to do a table, but it can be nice.  \n"
   ]
  },
  {
   "cell_type": "markdown",
   "metadata": {
    "nbgrader": {
     "grade": false,
     "grade_id": "cell-c51a2b1e861ebdf4",
     "locked": true,
     "schema_version": 3,
     "solution": false,
     "task": false
    }
   },
   "source": [
    "**Example of how you can structure a table in Markdown:**\n",
    "\n",
    "| Color band 1 | Color band 2 | Color band 3| Color band 4 | Color band 5 | Nominal (Ohms) | Measured (Ohms) |\n",
    "| ------------ | ------------ | ----------- | ------------ | ------------ | -------------- | ----------------|\n",
    "| Brown | Black | Black | Red | Brown | 10,000 | 9,980 |\n",
    "\n",
    "\n",
    "**Insert cell or cells below to record your answers**"
   ]
  },
  {
   "cell_type": "markdown",
   "metadata": {
    "nbgrader": {
     "grade": false,
     "grade_id": "cell-8f34ab0e6b1944a1",
     "locked": true,
     "points": 1,
     "schema_version": 3,
     "solution": false,
     "task": true
    }
   },
   "source": [
    "# Task 3: Voltage Sources. (1 pt)\n",
    "\n",
    "<img src=\"Fig_circuit_lab-1-task-3.png\" alt=\"Circuit 1A\" width=\"400\">\n",
    "\n",
    "1. Build the circuit as shown, using the M2K's DC power supply as the voltage source.\n",
    "1. Upload and include an image of your circuit in your notebook.\n",
    "    * Basic Markdown syntax is `![alt text](filename)` or you can use HTML as I used in this cell.\n",
    "    * HTML that sets the width `<img src=\"filename\" alt=\"alt text\" width=\"400\">`  \n",
    " \n",
    "#### Tutorials\n",
    "If you need a little help building the circuit, you can watch these YouTube videos. \n",
    "* [Video 1](https://youtu.be/54Jf8W298Fo) shows one way to build the resistor network on a breadboard\n",
    "* [Video 2](https://youtu.be/LRvmINnEY8o) shows how to attach the M2K as a DC Power Supply, which is used as the DC Power Supply. The video shows a similar device called the OpenScope MZ, but the pin assignments and wire colors should be identical between both devices. \n",
    "* Official M2K wiki page for the [power supply](https://wiki.analog.com/university/tools/m2k/scopy/power-supply)\n",
    "* Official M2K video on using the [power supply](https://youtu.be/kohIqwrlmjI) and voltmeter.\n",
    "\n",
    "**Insert cell or cells below to record your answers**"
   ]
  },
  {
   "cell_type": "markdown",
   "metadata": {
    "nbgrader": {
     "grade": false,
     "grade_id": "cell-77cefa8d2948900c",
     "locked": true,
     "points": 2,
     "schema_version": 3,
     "solution": false,
     "task": true
    }
   },
   "source": [
    "# Task 4: Voltage and current measurements using DMM (2 pts)\n",
    "\n",
    "1. Using your DMM, measure and record the\n",
    "    * Voltage output of the DC power supply, $V_1$, relative to ground.\n",
    "    * Voltage at Node $A$ relative to ground. \n",
    "    * Voltage difference across $R_1$. \n",
    "    * Measure the current through $R_1$, $R_2$, and $R_3$. \n",
    "1. Using UP2 theory (Ohm's Law, series and parallel resistors), compute all the voltages and currents that you measured. How do the theoretical and experimental results compare? \n",
    "    * Upload a screenshot of your work or use LaTeX equations to show your handwritten work\n",
    "    * Do all your numerical calculations within the Jupyter notebook. Please name variables in your code.    \n",
    "    \n",
    "#### Tutorials\n",
    "* [Video on Measuring currents with the DMM]()\n",
    "\n",
    "**Insert cell or cells below to record your answers**"
   ]
  },
  {
   "cell_type": "markdown",
   "metadata": {
    "nbgrader": {
     "grade": false,
     "grade_id": "cell-de4442e1145fb600",
     "locked": true,
     "points": 1,
     "schema_version": 3,
     "solution": false,
     "task": true
    }
   },
   "source": [
    "# Task 5: Voltage measurements using the M2K's analog input.\n",
    "Use the M2K's **1+** (orange) and **1-** (orange w/ white stripe) analog input to measure the voltage of \n",
    "1.  the DC power supply output, \n",
    "1.  node $A$, and \n",
    "1.  ground.\n",
    "\n",
    "The **1+** and **1-** inputs act similar to the red and black leads on the DMM. The measurement will be the voltage difference between 1+ and 1-. So both 1+ and 1- should be connected to your circuit. \n",
    "* If you want a voltage at a node relative to ground, then **1-** should connect to ground.\n",
    "* If you want a voltage across a component, connect **1+** and **1-** to each side of the component respectively.\n",
    "\n",
    "There are two tools within Scopy that directly read the value from the Analog Inputs. \n",
    "1. **Voltmeter** is best for DC signals or AC if all you need is amplitude of a sine wave. The **Voltmeter tool is recommended for this measurement.** A screenshot is below.\n",
    "1. **Oscilloscope** is best for viewing how signals change in time.\n",
    "\n",
    "<img src=\"FIG_Voltmeter_Screenshot.PNG\" alt=\"ADALM2000 Voltmeter\" width=\"500\">\n",
    "\n",
    "Tutorials\n",
    "* [Video on the M2K's Voltmeter tool and Power Supply tool](https://youtu.be/kohIqwrlmjI) from the [M2K wiki](https://wiki.analog.com/university/tools/m2k/scopy/voltmeter)\n",
    "\n",
    "**Insert cell or cells below to record your answers**"
   ]
  },
  {
   "cell_type": "markdown",
   "metadata": {
    "nbgrader": {
     "grade": false,
     "grade_id": "cell-d1e2c6da3cd1d276",
     "locked": true,
     "points": 1,
     "schema_version": 3,
     "solution": false,
     "task": true
    }
   },
   "source": [
    "# Task 6: Input impedance of the oscilloscope and DMM (1 pt)\n",
    "<img src=\"Circuit1b.PNG\" alt=\"Circuit for Input Impedance\" width=\"400\">\n",
    "\n",
    "1. Using UP2 concepts, calculate the expected voltage at Node $A$ relative to Ground.\n",
    "1. Use your DMM to measure the voltage between Node $A$ and Ground.\n",
    "1. Use the M2K to measure the voltage between Node $A$ and Ground.\n",
    "1. How do the theoretical and measured values compare?\n",
    "\n",
    "Explanation: You should't measure the theoretical voltage drop across $R_2$ (the 3.3 MOhm resistor) because the measurement tool itself has some internal resistance. A small amount of current does flow into the DMM or the Oscilloscope, and the amount of current depends on the input impedance of the DMM or Oscilloscope. \n",
    "\n",
    "**Insert cell or cells below to record your answers**"
   ]
  },
  {
   "cell_type": "markdown",
   "metadata": {
    "nbgrader": {
     "grade": false,
     "grade_id": "cell-efa38b901627dc17",
     "locked": true,
     "points": 2,
     "schema_version": 3,
     "solution": false,
     "task": true
    }
   },
   "source": [
    "# Task 7: Use measurements to estimate the input impedance of the oscilloscope and DMM (2 pts)\n",
    "\n",
    "1. Redraw the circuit diagram for the previous task, but now include an additional unknown resistor $R_\\textrm{meter}$ that represents the internal resistance of the meter. The resistor $R_\\textrm{meter}$ should be attached in the same way the voltmeter was. **Include your diagram in your Jupyter Notebook** Hand-drawn or computer drawn is fine. You can use [CircuitLab](https://www.circuitlab.com/). \n",
    "1. Solve for $R_\\textrm{meter}$ in terms of the other resistances and voltages that are either known or measurable. \n",
    "1. Calculate $R_\\textrm{meter}$  for the DMM.\n",
    "1. Calculate $R_\\textrm{meter}$ for the M2K's analog input\n",
    "\n",
    "**Insert cell or cells below to record your answers**"
   ]
  },
  {
   "cell_type": "markdown",
   "metadata": {},
   "source": [
    "# Before finishing\n",
    "1. **Show your instructor your Jupyter notebook**\n",
    "1. **Click \"Submit\"** in the Assignments Tab (otherwise it won't be graded and you'll get a zero)"
   ]
  },
  {
   "cell_type": "code",
   "execution_count": null,
   "metadata": {},
   "outputs": [],
   "source": []
  }
 ],
 "metadata": {
  "celltoolbar": "Create Assignment",
  "kernelspec": {
   "display_name": "Python 3 (ipykernel)",
   "language": "python",
   "name": "python3"
  },
  "language_info": {
   "codemirror_mode": {
    "name": "ipython",
    "version": 3
   },
   "file_extension": ".py",
   "mimetype": "text/x-python",
   "name": "python",
   "nbconvert_exporter": "python",
   "pygments_lexer": "ipython3",
   "version": "3.9.18"
  }
 },
 "nbformat": 4,
 "nbformat_minor": 4
}
