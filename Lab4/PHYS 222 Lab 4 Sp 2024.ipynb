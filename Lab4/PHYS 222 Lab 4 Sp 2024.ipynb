{
 "cells": [
  {
   "cell_type": "markdown",
   "metadata": {
    "nbgrader": {
     "grade": false,
     "grade_id": "cell-e80e39b5adb12a9d",
     "locked": true,
     "schema_version": 3,
     "solution": false,
     "task": false
    }
   },
   "source": [
    "# Lab 4 - Reactance of Capacitors and Inductors, Phasors\n",
    "\n",
    "### PHYS 222, Spring 2024, Dr. Ben Zwickl, Dr. Ke Xu, Dr. Michael Pierce\n",
    "\n",
    "### Goals\n",
    "* **Use cursors and measurement tools within the oscilloscope to**\n",
    "    * measure phase shift between two oscillations.\n",
    "    * estimate amplitude of waveform.\n",
    "* **Make Python plots with log and semilog scales**\n",
    "* **Measure the reactance of a capacitor, $X_C$**\n",
    "    * Observe the 90 degree phase shift between the current and the voltage across capacitor\n",
    "    * Show frequency dependence of $X_C$.\n",
    "* **Measure the reactance of an inductor, $X_L$**\n",
    "    * Observe the 90 degree phase shift between the current and the voltage across inductor\n",
    "    * Show frequency dependence of $X_L$.\n",
    "    * Observe how the internal resistance changes the impedance of an ideal inductor\n"
   ]
  },
  {
   "cell_type": "code",
   "execution_count": null,
   "metadata": {},
   "outputs": [],
   "source": [
    "# load packages at the top of your notebook. \n",
    "# We will always use numpy and matplotlib.pyplot.\n",
    "# In future weeks, you should add these lines yourself\n",
    "\n",
    "import numpy as np\n",
    "import matplotlib.pyplot as plt"
   ]
  },
  {
   "cell_type": "markdown",
   "metadata": {},
   "source": [
    "# Task 1: Complex number math (2 pt)\n",
    "We will do calculations with complex numbers especially for calculations related to the response of a circuit to sine waves. \n",
    "This task shows some of the features on how to use complex numbers in Python. \n",
    "\n",
    "Imaginary $i$ is represented in Python as `1j`. \n",
    "\n",
    "A more general complex number $z = 3-5i$ would be represented as `z=3-5j`.\n",
    "\n",
    "### Complex number math in Python\n",
    "Enter the number $z = -2 + 2i$ and $w = 4 - i$ and calculate\n",
    "1. $w+z$   (use normal addition symbol)\n",
    "1. $w-z$   (use normal subtraction symbol)\n",
    "1. $wz$    (use normal multiplication symbol)\n",
    "1. $w/z$   (use normal division symbol)\n",
    "1. $|z|$ absolute value or length. Use `np.abs(z)` \n",
    "1. phase of $z$ in radians. Use `np.angle(z)` \n",
    "1. phase of $z$ in degrees. Use `np.angle(z , deg=True)`\n",
    "\n",
    "**Fill in the ??? in the code below**"
   ]
  },
  {
   "cell_type": "code",
   "execution_count": null,
   "metadata": {},
   "outputs": [],
   "source": [
    "z = ???\n",
    "w = ???\n",
    "\n",
    "print(\"sum:\", ???)\n",
    "print(\"diff:\", ???)\n",
    "print(\"multiplication:\", ???)\n",
    "print(\"division:\", ???)\n",
    "print(\"absolute value:\", ???)\n",
    "print(\"angle (radians):\", ???)\n",
    "print(\"angle (degrees):\", ???)"
   ]
  },
  {
   "cell_type": "markdown",
   "metadata": {},
   "source": [
    "# Example of semilog and loglog plots in matplotlib\n",
    "\n",
    "For understanding the frequency response of circuits, we often need to examine frequencies that change over many orders of magnitude, and responses that change over many orders of magnitude. It can be useful to put one axis (usually frequency) or both axes on a logarithmic scale. \n",
    "\n",
    "Here is an example: "
   ]
  },
  {
   "cell_type": "code",
   "execution_count": null,
   "metadata": {},
   "outputs": [],
   "source": [
    "# Step 1: Define the x-range range on a logarithmic scale\n",
    "x = np.logspace(-2,4,100) # start value is 10^-2, stop is 10^4, 100 steps. \n",
    "\n",
    "# print the first and last elements\n",
    "print(x[0])   # should be 10^(-2) = 0.01\n",
    "print(x[-1])  # last element should be 10^4 = 10000"
   ]
  },
  {
   "cell_type": "code",
   "execution_count": null,
   "metadata": {},
   "outputs": [],
   "source": [
    "# Step 2: Evaluate a function over the range of x values\n",
    "\n",
    "# because Python does vectorized math, \n",
    "# we can evaluate the function at all x values in one line.\n",
    "\n",
    "y = 1/(1+1j*x)   # similar to your reactance calculations, you will have complex numbers "
   ]
  },
  {
   "cell_type": "code",
   "execution_count": null,
   "metadata": {},
   "outputs": [],
   "source": [
    "# Step 3: Make the semilogx and loglog plots\n",
    "\n",
    "#  Phase is good plot with x on a log scale and phase angle on a linear scale.\n",
    "yphase = np.angle(y, deg=True)\n",
    "plt.semilogx(x,yphase)\n",
    "plt.xlabel(\"x\")\n",
    "plt.ylabel(\"Angle(y) (deg)\")\n",
    "plt.grid()"
   ]
  },
  {
   "cell_type": "code",
   "execution_count": null,
   "metadata": {},
   "outputs": [],
   "source": [
    "# Step 4: Make the log-log plot\n",
    "# The absolute value of y  is good to plot with both x and y axes on a logarithmic scale\n",
    "yabs = np.abs(y)\n",
    "plt.loglog(x,yabs)\n",
    "plt.xlabel(\"x\")\n",
    "plt.ylabel(\"abs(y)\")\n",
    "plt.grid()"
   ]
  },
  {
   "cell_type": "markdown",
   "metadata": {},
   "source": [
    "# Task 2: Make a theory plot of reactance vs frequency (2 pts)\n",
    "Reactance for a capacitor is analogous to Ohm's law. It is the ratio of the voltage to the current, and it depends on the frequency of oscillation. \n",
    "\n",
    "$$ X_C = \\frac{1}{\\omega C} = \\frac{1}{2\\pi f C}$$\n",
    "\n",
    "Using reactance to relate current to voltage is similar to Ohm's law, but also involves a phase shift indicated by the imaginary $j$: \n",
    "\n",
    "$$V_C = (-j X_C) I_C = \\left(-j \\frac{1}{\\omega C}\\right) I_C = \\left(-j \\frac{1}{2\\pi f C}\\right) I_C = Z_C I_C$$\n",
    "\n",
    "**Make plots of the complex valued impedance**, $Z_C$. Make separate plots for the absolute value and phase vs frequency (similar to examples above) where $$Z_C = V_C/I_C = -j \\frac{1}{2\\pi f C}$$ \n",
    "\n",
    "   * Use $C$ = 10 nF (same as the circuit you will build). Use a frequency range of $10^2$ Hz up to $10^6$ Hz. \n",
    "   * Make the plots similar to examples above, use the appropriate semilog or log-log axes. \n"
   ]
  },
  {
   "cell_type": "markdown",
   "metadata": {
    "nbgrader": {
     "grade": false,
     "grade_id": "cell-1dbf1e30340207c4",
     "locked": true,
     "points": 2,
     "schema_version": 3,
     "solution": false,
     "task": true
    }
   },
   "source": [
    "# Task 3: Build an RC circuit, collect data (2 pts)\n",
    "![Lab 4 RC  circuit diagram](Fig_RC_Task3.png)\n",
    "The circuit values are chosen are chosen so that the range of drive frequencies can span a wide range.\n",
    "\n",
    "1. Build the RC circuit.\n",
    "1. Use the Signal Generator (W1) as the sinusoidal voltage source\n",
    "    * Set to **sine wave**. \n",
    "    * A 5 V amplitude (max possible) is beneficial for our measurements today to give us an easier time measuring voltages that get smaller at either high or low frequencies. \n",
    "    * 1 kHz is fine.\n",
    "1. Use both channels of the oscilloscope (1+/1- and 2+/2-) to simultaneously measure the voltage *across* the capacitor $V_C$ and *across* the resistor $V_R$.\n",
    "1. Use the **cursors** in Scopy to measure the time shift of $V_C$ relative to $V_R$. Take a screenshot of your cursors.\n",
    "1. Use the **Measurement** functions in Scopy to measure $V_{pp}$ of the capacitor and the resistor.\n",
    "1. Based on your measurements, compute the following \n",
    "    * the peak-to-peak amplitude of the current \n",
    "    * the capacitive reactance $X_C = V_C/I$\n",
    "    * the phase difference (in degrees) between $V_C$ and $V_R$ (or $I$).  Does it show the expected 90 degree phase difference? \n",
    "\n",
    "**Do calculations in Python. You can add cells into this Jupyter notebook. Screenshots of calculations and other work go in OneNote**"
   ]
  },
  {
   "cell_type": "markdown",
   "metadata": {
    "nbgrader": {
     "grade": false,
     "grade_id": "cell-7574c65d92aa3fc1",
     "locked": true,
     "points": 2,
     "schema_version": 3,
     "solution": false,
     "task": true
    }
   },
   "source": [
    "# Task 4: Frequency dependent impedance of a capacitor (2 pts)\n",
    "This task extends the analysis of the previous task to multiple frequencies. The goal is to make measurements that verify the complex-valued impedance formula for a capacitor.\n",
    "\n",
    "$$ X_C = \\frac{1}{\\omega C} = \\frac{1}{2\\pi f C}$$\n",
    "\n",
    "Because $X_C$, relates current to voltage similar to Ohm's law, we have \n",
    "\n",
    "$$V_C = (-j X_C) I_C = \\left(-j \\frac{1}{\\omega C} \\right) I_C = \\left( -j \\frac{1}{2\\pi f C}\\right) I_C = Z_C I_C$$\n",
    "\n",
    "#### We will be able to test 3 main features of this formula:\n",
    "* The imaginary $j$ means the sinusoidal voltage across capacitor is 90 degrees behind of the sinusoidal current. There is a 90 degree phase shift between them.\n",
    "* The magnitude of impedance decreases like $1/\\omega$\n",
    "* The magnitude is inversely proportional to capacitance $C$\n",
    "\n",
    "#### Suggested steps\n",
    "\n",
    "1. Calculate the frequency (in Hz) where the capacitive reactance $X_C$ has the same magnitude value as the resistance $R$. We will call this $f_{RC}$.  \n",
    "1. Select drive frequencies that span well below $f_{RC}$ to a bit above. I picked values approximately $0.01 f_{RC}$ up to $10f_{RC}$. Use a log-scale for spacing frequencies, such as 100, 300, 1000, 3000, and so on up to 100000.\n",
    "1. Measure the time-shift between the two waves and use the cursors to measure the $\\Delta t$\n",
    "1. Measure the amplitude of the Ch1 and Ch2 sine waves. $V_{pp}$ - peak-to-peak amplitude is a good choice. It can be read using the \"Measurement tools\n",
    "1. Make a table of the measurements \n",
    "    * I recommend making a CSV file, either as a Google Sheet or directly in a text file. Then import the CSV file using `genfromtxt`so you have the data in a numpy array.\n",
    "1. Based on your measurements, compute the following at each frequency\n",
    "    * the current \n",
    "    * the magnitude of the capacitive impedance\n",
    "    * Compute the phase between $V_C$ and $V_R$. \n",
    "1.  Similar to this example, create a pair of plots showing data and theory for\n",
    "    * phase shift between $I$ and $V_C$ versus frequency (in Hz) (the phase angle of $Z$)\n",
    "    * The reactance $X_C$ vs frequency (in Hz) \n",
    "    \n",
    "#### Example data table for this task.\n",
    "You can directly create a CSV file in a text file, such as. \n",
    "![Example data](Fig_Task3_data_table.png)\n",
    "\n",
    "Note the use of logarithmic scales on the plots with [`plt.semilogx`](https://matplotlib.org/stable/api/_as_gen/matplotlib.pyplot.semilogx.html) and [`plt.loglog`](https://matplotlib.org/stable/api/_as_gen/matplotlib.pyplot.loglog.html).\n",
    "![Example data table](example_XC_plots.png)\n",
    "\n",
    "    \n",
    "**Do calculations in Python. You can add cells into this Jupyter notebook. Screenshots of calculations and other work go in OneNote**"
   ]
  },
  {
   "cell_type": "markdown",
   "metadata": {
    "nbgrader": {
     "grade": false,
     "grade_id": "cell-50fee095e466ac81",
     "locked": true,
     "points": 2,
     "schema_version": 3,
     "solution": false,
     "task": true
    }
   },
   "source": [
    "# Task 5: Frequency dependence of the inductor (2 pts)\n",
    "![RL circuit for measuring impedance of inductor](Fig_RL_Task4.png)\n",
    "\n",
    "This is similar to Task 3, but for the inductor. The goal is to make measurements that demonstrate the complex-valued impedance formula for an inductor.\n",
    "\n",
    "$$ X_L = \\omega L = 2\\pi f L $$\n",
    "\n",
    "Because $X_L$, relates current to voltage similar to Ohm's law, we have \n",
    "\n",
    "$$V_L = (j X_L) I_L = (j \\omega L) I_L = (j 2 \\pi f L) I_L = Z_L I_L $$\n",
    "\n",
    "#### We will be able to test 3 main features of this formula:\n",
    "* The imaginary $j$ means the sinusoidal voltage across inductor is 90 degrees ahead of the sinusoidal current. There is a 90 degree phase shift between them.\n",
    "* The magnitude of impedance increases with $\\omega$\n",
    "* The magnitude is proportional to inductance $L$\n",
    "* The formula breaks down for small $\\omega$ because the inductor is not ideal\n",
    "\n",
    "#### Suggested steps\n",
    "1. Build the circuit. \n",
    "1. Calculate the frequency (in Hz) where should $X_L$ and $R$ have the save value.\n",
    "1. Select drive frequencies that span well below to a little above $f_{RL} = 1/\\tau_{RL}$ where $\\tau_{RL}=L/R$ . I picked frequencies using a log scale (so 100, 300, 1000, etc).\n",
    "1. Use the cursors to measure the $\\delta t$ between the Voltage across the inductor and resistor. Note which is leading.\n",
    "1. Measure the peak-to-peak amplitude $V_{pp}$ is a good choice.\n",
    "1. Make a table of the measurements \n",
    "    * I recommend making a CSV file, either as a Google Sheet or directly in JupyterHub. Then use `np.genfromtxt` to load the CSV file into a numpy array.\n",
    "1. Based on your measurements, compute the following \n",
    "    * the current \n",
    "    * the magnitude of the capacitive impedance\n",
    "    * the phase phase\n",
    "1.  Similar to the example below, create a pair of subplots showing theory and data for\n",
    "    * phase shift between $I$ and $V_L$ versus frequency (the phase of $Z$)\n",
    "    * The inductive reactance $X_L$ vs frequency (the absolute value of $Z$)\n",
    "1. Answer the following questions:\n",
    "    * How does the intrinsic resistance of the inductor change the two graphs?\n",
    "    * Does the intrinsic resistance matter more at high or low frequencies? Why?\n",
    "#### Example data from this task (note your frequencies will be different because this was taken for a 100 Ohm resistor)\n",
    "![Example data](example_XL_plots.png)\n",
    "    \n",
    "**Do calculations in Python. You can add cells into this Jupyter notebook. Screenshots of calculations and other work go in OneNote**"
   ]
  },
  {
   "cell_type": "code",
   "execution_count": null,
   "metadata": {},
   "outputs": [],
   "source": []
  }
 ],
 "metadata": {
  "celltoolbar": "Create Assignment",
  "kernelspec": {
   "display_name": "Python 3 (ipykernel)",
   "language": "python",
   "name": "python3"
  },
  "language_info": {
   "codemirror_mode": {
    "name": "ipython",
    "version": 3
   },
   "file_extension": ".py",
   "mimetype": "text/x-python",
   "name": "python",
   "nbconvert_exporter": "python",
   "pygments_lexer": "ipython3",
   "version": "3.9.18"
  }
 },
 "nbformat": 4,
 "nbformat_minor": 4
}
