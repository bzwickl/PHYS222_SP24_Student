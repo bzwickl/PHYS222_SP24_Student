{
 "cells": [
  {
   "cell_type": "markdown",
   "metadata": {
    "nbgrader": {
     "grade": false,
     "grade_id": "cell-e80e39b5adb12a9d",
     "locked": true,
     "schema_version": 3,
     "solution": false,
     "task": false
    }
   },
   "source": [
    "# Lab 4 - Reactance of Capacitors and Inductors, Phasors\n",
    "\n",
    "### PHYS 222, Spring 2022, Dr. Ben Zwickl\n",
    "\n",
    "### Goals\n",
    "* **Use cursors and math tools within the oscilloscope to**\n",
    "    * measure phase shift between two oscillations.\n",
    "    * estimate amplitude of waveform.\n",
    "* **Make Python plots with log and semilog scales**\n",
    "* **Measure the reactance of a capacitor, $X_C$**\n",
    "    * Observe the 90 degree phase shift between the current and the voltage across capacitor\n",
    "    * Show frequency dependence of $X_C$.\n",
    "* **Measure the reactance of an inductor, $X_L$**\n",
    "    * Observe the 90 degree phase shift between the current and the voltage across inductor\n",
    "    * Show frequency dependence of $X_L$.\n",
    "    * Observe how the internal resistance changes the impedance of an ideal inductor\n"
   ]
  },
  {
   "cell_type": "code",
   "execution_count": 1,
   "metadata": {},
   "outputs": [],
   "source": [
    "# load packages at the top of your notebook. \n",
    "# We will always use numpy and matplotlib.pyplot.\n",
    "# In future weeks, you should add these lines yourself\n",
    "\n",
    "import numpy as np\n",
    "import matplotlib.pyplot as plt"
   ]
  },
  {
   "cell_type": "markdown",
   "metadata": {
    "nbgrader": {
     "grade": false,
     "grade_id": "cell-4e879e17a25dcb38",
     "locked": true,
     "points": 1,
     "schema_version": 3,
     "solution": false,
     "task": true
    }
   },
   "source": [
    "# Task 1: Copy your `load_waveform` function from Lab 3\n",
    "\n",
    "**Insert cell or cells below to record your answers**"
   ]
  },
  {
   "cell_type": "code",
   "execution_count": 6,
   "metadata": {
    "nbgrader": {
     "grade": false,
     "grade_id": "cell-baeda6141519cd0a",
     "locked": true,
     "schema_version": 3,
     "solution": false,
     "task": false
    }
   },
   "outputs": [
    {
     "data": {
      "image/png": "[encoded data removed]",
      "text/plain": [
       "<Figure size 432x288 with 1 Axes>"
      ]
     },
     "metadata": {
      "needs_background": "light"
     },
     "output_type": "display_data"
    }
   ],
   "source": [
    "# RUN THESE TEST CASES BUT DON'T EDIT THEM\n",
    "\n",
    "### Test cases for load_waveform\n",
    "data = load_waveform(\"Sample_Scopy_Data.csv\")\n",
    "assert len(data) == 3        # make sure the function returns a list of 3 things\n",
    "t, ch1, ch2 = data            # unpack for analysis\n",
    "assert len(t) == len(ch1) == len(ch2) == 3200  # check length of imported data set\n",
    "assert abs(ch1.mean() - -0.0033719303437499894)/-0.0033719303437499894 < 1e-4  # check the values on ch1\n",
    "assert (np.mean( np.abs(ch2) ) - 0.5011812406249)/ 0.5011812406249 < 1e-4  # check the values on ch2\n",
    "assert abs( (t.min() - (-0.0016)) ) /abs(-0.0016) < 1e-4   # check the min time"
   ]
  },
  {
   "cell_type": "markdown",
   "metadata": {
    "nbgrader": {
     "grade": false,
     "grade_id": "cell-1dbf1e30340207c4",
     "locked": true,
     "points": 2,
     "schema_version": 3,
     "solution": false,
     "task": true
    }
   },
   "source": [
    "# Task 2: Build an RC circuit, collect data, and plot\n",
    "![Lab 4 RC  circuit diagram](Fig_RC_Task3.png)\n",
    "The circuit values are chosen are chosen so that the range of drive frequencies can span a wide range.\n",
    "\n",
    "1. Build the RC circuit.\n",
    "1. Use the Signal Generator (W1) as the sinusoidal voltage source\n",
    "    * Set to **sine wave**. \n",
    "    * A 5 V amplitude (max possible) is beneficial for our measurements today to give us an easier time measuring voltages that get smaller at either high or low frequencies. \n",
    "    * 1 kHz is fine.\n",
    "1. Use both channels of the oscilloscope (1+/1- and 2+/2-) to simultaneously measure the voltage across the capacitor $V_C$ and across the resistor $V_R$.\n",
    "1. Save and plot the data in your Jupyter notebook using your `load_waveform` function. \n",
    "1. Use the cursors in Scopy to measure the time shift of $V_C$ relative to $V_R$. \n",
    "1. Use the Math functions to measure $V_{pp}$ of the capacitor vand resistor.\n",
    "1. Based on your measurements, compute the following \n",
    "    * the peak-to-peak amplitude of the current \n",
    "    * the capacitive reactance $X_C = V_C/I$\n",
    "    * the phase difference (in degrees) between $V_C$ and $V_R$ (or $I$).  Does it show the expected 90 degree phase difference? \n",
    "\n",
    "**Insert cell or cells below to record your answers**"
   ]
  },
  {
   "cell_type": "markdown",
   "metadata": {
    "nbgrader": {
     "grade": false,
     "grade_id": "cell-7574c65d92aa3fc1",
     "locked": true,
     "points": 2,
     "schema_version": 3,
     "solution": false,
     "task": true
    }
   },
   "source": [
    "# Task 3: Frequency dependent impedance of a capacitor\n",
    "This task extends the analysis of the Task 2 to multiple frequencies. The goal is to make measurements that verify the complex-valued impedance formula for a capacitor.\n",
    "\n",
    "$$ X_C = \\frac{1}{\\omega C} $$\n",
    "\n",
    "Because $X_C$, relates current to voltage similar to Ohm's law, we have \n",
    "\n",
    "$$V_C = -j X_C I_C = -j \\frac{1}{\\omega C} I_C $$\n",
    "\n",
    "#### We will be able to test 3 main features of this formula:\n",
    "* The imaginary $i$ means the sinusoidal voltage across capacitor is 90 degrees behind of the sinusoidal current. There is a 90 degree phase shift between them.\n",
    "* The magnitude of impedance decreases like $1/\\omega$\n",
    "* The magnitude is inversely proportional to capacitance $C$\n",
    "\n",
    "#### Suggested steps\n",
    "\n",
    "1. Calculate the frequency (in Hz) where the capacitive reactance $X_C$ has the same magnitude value as the resistance $R$. We will call this $f_{RC}$.  \n",
    "1. Select drive frequencies that span well below $f_{RC}$ to a bit above. I picked values approximately $0.01 f_{RC}$ up to $10f_{RC}$. Use a log-scale for spacing frequencies, such as 100, 300, 1000, 3000, etc.\n",
    "1. Measure the time-shift between the two waves and use the cursors to measure the $\\Delta t$\n",
    "1. Measure the amplitude of the Ch1 and Ch2 sine waves. $V_{pp}$ - peak-to-peak amplitude is a good choice. It can be read using the \"Measurement tools\n",
    "1. Make a table of the measurements \n",
    "    * I recommend making a CSV file, either as a Google Sheet or directly in JupyterHub. Then import the CSV file so you have the data in a numpy array.\n",
    "1. Based on your measurements, compute the following at each frequency\n",
    "    * the current \n",
    "    * the magnitude of the capacitive impedance\n",
    "    * Compute the phase between $V_C$ and $V_R$. \n",
    "1.  Similar to this example, create a pair of plots showing \n",
    "    * phase shift between $I$ and $V_C$ versus frequency (in Hz)\n",
    "    * The reactance $X_C$ vs frequency (in Hz) \n",
    "    \n",
    "#### Example data table for this task.\n",
    "You can directly create a CSV file in JupyterHub. \n",
    "![Example data](Fig_Task3_data_table.png)\n",
    "\n",
    "Note the use of logarithmic scales on the plots with [`plt.semilogx`](https://matplotlib.org/stable/api/_as_gen/matplotlib.pyplot.semilogx.html) and [`plt.loglog`](https://matplotlib.org/stable/api/_as_gen/matplotlib.pyplot.loglog.html).\n",
    "![Example data table](example_XC_plots.png)\n",
    "\n",
    "    \n",
    "**Insert cell or cells below to record your answers**"
   ]
  },
  {
   "cell_type": "markdown",
   "metadata": {
    "nbgrader": {
     "grade": false,
     "grade_id": "cell-50fee095e466ac81",
     "locked": true,
     "points": 2,
     "schema_version": 3,
     "solution": false,
     "task": true
    }
   },
   "source": [
    "# Task 4: Frequency dependence of the inductor\n",
    "![RL circuit for measuring impedance of inductor](Fig_RL_Task4.png)\n",
    "\n",
    "This is similar to Task 3, but for the inductor. The goal is to make measurements that demonstrate the complex-valued impedance formula for an inductor.\n",
    "\n",
    "$$ X_L = \\omega L $$\n",
    "\n",
    "Because $X_L$, relates current to voltage similar to Ohm's law, we have \n",
    "\n",
    "$$V_L = j X_L I_L = j \\omega L I_L $$\n",
    "\n",
    "#### We will be able to test 3 main features of this formula:\n",
    "* The imaginary $-i$ means the sinusoidal voltage across inductor is 90 degrees ahead of the sinusoidal current. There is a 90 degree phase shift between them.\n",
    "* The magnitude of impedance increases with $\\omega$\n",
    "* The magnitude is proportional to inductance $L$\n",
    "* The formula breaks down for small $\\omega$ because the inductor is not ideal\n",
    "\n",
    "#### Suggested steps\n",
    "1. Build the circuit. \n",
    "1. At what frequency (in Hz) should $X_L$ and $R$ have the save value?\n",
    "1. Select drive frequencies that span well below to a little above $f_{RL} = 1/\\tau_{RL}$ where $\\tau_{RL}=L/R$ . I picked frequencies using a log scale (so 100, 300, 1000, etc).\n",
    "1. Use the cursors to measure the $\\delta t$ between the Voltage across the inductor and resistor. Note which is leading.\n",
    "1. Measure the peak-to-peak amplitude $V_{pp}$ is a good choice.\n",
    "1. Make a table of the measurements \n",
    "    * I recommend making a CSV file, either as a Google Sheet or directly in JupyterHub. Then use `np.genfromtxt` to load the CSV file into a numpy array.\n",
    "1. Based on your measurements, compute the following \n",
    "    * the current \n",
    "    * the magnitude of the capacitive impedance\n",
    "    * the phase phase\n",
    "1.  Similar to the example below, create a pair of subplots showing \n",
    "    * phase shift between $I$ and $V_L$ versus frequency\n",
    "    * The inductive reactance $X_L$ vs frequency \n",
    "1. Answer the following questions:\n",
    "    * How does the intrinsic resistance of the inductor change the two graphs?\n",
    "    * Does the intrinsic resistance matter more at high or low frequencies? Why?\n",
    "#### Example data from this task (note your frequencies will be different because this was taken for a 100 Ohm resistor)\n",
    "![Example data](example_XL_plots.png)\n",
    "    \n",
    "**Insert cell or cells below to record your answers**"
   ]
  }
 ],
 "metadata": {
  "celltoolbar": "Create Assignment",
  "kernelspec": {
   "display_name": "Python 3 (ipykernel)",
   "language": "python",
   "name": "python3"
  },
  "language_info": {
   "codemirror_mode": {
    "name": "ipython",
    "version": 3
   },
   "file_extension": ".py",
   "mimetype": "text/x-python",
   "name": "python",
   "nbconvert_exporter": "python",
   "pygments_lexer": "ipython3",
   "version": "3.8.10"
  }
 },
 "nbformat": 4,
 "nbformat_minor": 4
}
