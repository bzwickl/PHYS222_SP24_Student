{
 "cells": [
  {
   "cell_type": "markdown",
   "metadata": {},
   "source": [
    "# Lecture Activity: Digital circuits, logic analyzers, and NAND gates\n",
    "\n",
    "## SN74HC00N NAND chip\n",
    "\n",
    "Our activity will use the Texas Instruments (TI) SN74HC00N NAND chip. The assignment includes a [PDF of the full datasheet](sn74hc00_NAND_datasheet.pdf).\n",
    "![NAND Pinout](Fig_NAND_pinout.PNG)\n",
    "\n",
    "* Each NAND gate has 2 inputs and 1 output.\n",
    "* There are 4 NAND gates on a single chip."
   ]
  },
  {
   "cell_type": "markdown",
   "metadata": {},
   "source": [
    "## M2K's Digitial Analysis tools\n",
    "The M2K has 16 digitial pins, which can be used as inputs or outputs. These are labeled as Digital I/O Pins 0-7 (top row) and 8-15 (bottom row).\n",
    "\n",
    "![M2Ks digital pins](FIG_adalm2000-pin-wires.png)\n",
    "\n",
    "#### Setting up and controlling an Output pin\n",
    "The diagram below shows how to set up pins 1 and 2 as Digitial Output pins. This will let you toggle their output between Low = 0 V and High = 3.3 V.\n",
    "\n",
    "![Setting up the I/O pins for Output](Fig_Scopy_Digital_IO_Control.png)"
   ]
  },
  {
   "cell_type": "markdown",
   "metadata": {
    "nbgrader": {
     "grade": false,
     "grade_id": "cell-7a3ba822e414538e",
     "locked": true,
     "points": 1,
     "schema_version": 3,
     "solution": false,
     "task": true
    }
   },
   "source": [
    "# Task 1: Set up digital I/O pins 0 and 1 as digital output channels\n",
    "1. Set up the Digial I/O similar to the screen above. Make pins 0 and 1 into digitial outputs. \n",
    "1. Make sure to press \"Run\" or the outputs will not work.\n",
    "1. Use your DMM to measure the voltage between the digital pin 0 and ground. You should see the voltage switch between 0 and 3.3 V when you click on the \"Out\" button as shown in the right-side diagram above.\n",
    "1. Check digitial pin 1 with the DMM in the same way."
   ]
  },
  {
   "cell_type": "markdown",
   "metadata": {},
   "source": [
    "# Task 2: Build a circuit using one NAND gate.  \n",
    "\n",
    "This circuit will require using 5 pins on the NAND: 1A, 1B, 1Y, GND, and VCC.\n",
    "\n",
    "![NAND Pinout](Fig_NAND_pinout.PNG)\n",
    "\n",
    "**Make sure your chip says SN74HC00N on top!** \n",
    "\n",
    "![Schematic for NAND circuit](Fig_nand_basic.png)\n",
    "\n",
    "1. Use the M2K's positive DC power supply, V+, to provide 3.3 V to the NAND chip's supply voltage (labeled Vcc). Verify with your DMM.\n",
    "1. Connect the M2K's ground to the NAND chip's ground (labeled GND).\n",
    "1. Use the NAND chip's pins 1, 2 and 3 to build the circuit. \n",
    "    * The inputs (1A and 1B) are provided by the M2K's digitial Outputs. \n",
    "    * The output (1Y) will be connected to a resistor and LED to view whether the output is high or low. \n",
    "    * Make sure the LED is oriented correctly (Cathode = flat side)\n",
    "    * Any resistor between 220 Ohms and 1 kOhm is fine...just limits the LED current to be between 3 mA and 15 mA.\n",
    "    \n",
    "    "
   ]
  },
  {
   "cell_type": "markdown",
   "metadata": {},
   "source": [
    "# Task 3: Experimentally determine the truth table for the NAND.\n",
    "1. Use the DMM to verify the digital output is switching between high (3.3 V) and low (0 V) as shown above.\n",
    "1. Test all four input cases needed for the truth table.  The LED lights up when the output is True/High.\n",
    "1. You can fill in your results in this truth table. The NAND gate should work as expected."
   ]
  },
  {
   "cell_type": "markdown",
   "metadata": {},
   "source": [
    "| Input 1A | Input 1B | Output 1Y (LED on/off) | Expected output (NAND) |\n",
    "| -------- | -------- | ---------------------- | ---------------------  |\n",
    "| 0  | 0 | Double click to edit |  |\n",
    "| 0  | 1 |  |  |\n",
    "| 1  | 0 |  |  |\n",
    "| 1  | 1 |  |  |"
   ]
  },
  {
   "cell_type": "markdown",
   "metadata": {},
   "source": [
    "# Task 4: Build and test an inverter (NOT gate) using NAND\n",
    "The following circuit should behave as an inverter (NOT gate).\n",
    "\n",
    "![Schematic NOT gate](Fig_NAND_inverter.png)\n",
    "\n",
    "1. Test all four input cases needed for the truth table.  \n",
    "1. Switch the M2K's digital output between high (3.3 V) and low (0 V) as shown above.\n",
    "1. You can fill in your results in this truth table. The NAND gate should work as expected."
   ]
  },
  {
   "cell_type": "markdown",
   "metadata": {},
   "source": [
    "| Input | Output 1Y (LED on/off) | Expected output (NOT) |\n",
    "| -------- | ---------------------- | ---------------------  |\n",
    "| 0  | Double click to edit  |  |\n",
    "| 1  |   |  |"
   ]
  },
  {
   "cell_type": "markdown",
   "metadata": {},
   "source": [
    "# Task 5: Build and test an OR gate using NAND\n",
    "The following circuit should behave as an inverter (NOT gate).\n",
    "\n",
    "![Schematic Or gate](Fig_NAND_OR.png)\n",
    "\n",
    "1. Test all four input cases needed for the truth table.  \n",
    "1. Switch the M2K's digital output between high (3.3 V) and low (0 V) as shown above.\n",
    "1. You can fill in your results in this truth table. The NAND gate should work as expected.\n",
    "\n"
   ]
  },
  {
   "cell_type": "markdown",
   "metadata": {},
   "source": [
    "| Input A | Input B | Output (LED on/off) | Expected output (OR)|\n",
    "| -------- | -------- | ---------------------- | ---------------------  |\n",
    "| 0  | 0 | Double click to edit |  |\n",
    "| 0  | 1 |  |  |\n",
    "| 1  | 0 |  |  |\n",
    "| 1  | 1 |  |  |"
   ]
  },
  {
   "cell_type": "code",
   "execution_count": null,
   "metadata": {},
   "outputs": [],
   "source": []
  }
 ],
 "metadata": {
  "celltoolbar": "Create Assignment",
  "kernelspec": {
   "display_name": "Python 3 (ipykernel)",
   "language": "python",
   "name": "python3"
  },
  "language_info": {
   "codemirror_mode": {
    "name": "ipython",
    "version": 3
   },
   "file_extension": ".py",
   "mimetype": "text/x-python",
   "name": "python",
   "nbconvert_exporter": "python",
   "pygments_lexer": "ipython3",
   "version": "3.8.10"
  }
 },
 "nbformat": 4,
 "nbformat_minor": 4
}
