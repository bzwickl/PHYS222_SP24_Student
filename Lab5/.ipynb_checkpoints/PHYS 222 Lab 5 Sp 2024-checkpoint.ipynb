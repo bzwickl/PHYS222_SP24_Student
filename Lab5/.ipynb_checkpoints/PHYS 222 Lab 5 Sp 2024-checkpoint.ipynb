{
 "cells": [
  {
   "cell_type": "markdown",
   "metadata": {
    "nbgrader": {
     "grade": false,
     "grade_id": "cell-e80e39b5adb12a9d",
     "locked": true,
     "schema_version": 3,
     "solution": false,
     "task": false
    }
   },
   "source": [
    "# Lab 5 - Transfer functions of passive filters\n",
    "### PHYS 222, Spring 2024, Dr. Ben Zwickl, Dr. Ke Xu, Dr. Michael Pierce\n",
    "\n",
    "In Lab 4, the reactance lab, you **tediously measured the amplitude and phase of signals**. In lab 5 we will also measure how a circuit changes the amplitude and phase of a sinusoidal signal at different frequencies. This is known as the **transfer function** $H(\\omega) = V_\\textrm{out}(\\omega)/V_\\textrm{in}(\\omega)$. \n",
    "\n",
    "In this lab you will use the **Network Analyzer** feature of within Scopy to **easily and rapidly collect** gain and phase shift data for different RC and RLC circuits. The pair of gain and phase plots created by the network analyzer are usually called **Bode plots**. You will also be able to compare the data with the theory that was covered in lecture on Week 5-1 (with Dr. Cammarota). \n",
    "\n",
    "### Goals\n",
    "* **Measure Bode Plots (Gain) for a filter high pass filter**\n",
    "    * Calculate the theoretical gain and phase shift vs frequency\n",
    "    * Compare theory with measured Bode plot\n",
    "* **Measure the  impedance of a pair of your headphones**\n",
    "* **Build a band-pass RLC filter for headphone**\n",
    "    * Calculate the theoretical gain and phase shift vs frequency\n",
    "    * Compare theory with measured Bode plot\n",
    "* **Use CircuitLab to simulate Bode plots (gain and phase plots)**\n",
    "    * High Pass RC filter\n",
    "    * RLC bandpass headphone filter\n",
    "\n",
    "Note: You may want to prioritize the circuit building and measurement and CircuitLab simulations, then come back to the theory.\n"
   ]
  },
  {
   "cell_type": "code",
   "execution_count": 1,
   "metadata": {},
   "outputs": [],
   "source": [
    "# load packages at the top of your notebook. \n",
    "# We will always use numpy and matplotlib.pyplot.\n",
    "# In future weeks, you should add these lines yourself\n",
    "\n",
    "import numpy as np\n",
    "import matplotlib.pyplot as plt"
   ]
  },
  {
   "cell_type": "markdown",
   "metadata": {
    "nbgrader": {
     "grade": false,
     "grade_id": "cell-3af8771ee1e069b3",
     "locked": true,
     "points": 2,
     "schema_version": 3,
     "solution": false,
     "task": true
    }
   },
   "source": [
    "# Task 1: Build a high pass RC filter and measure the Bode plot (2 pts)\n",
    "\n",
    "![High Pass Filter Diagram](Diagram_RC_High_Pass.PNG)\n",
    "\n",
    "1. Build the RC filter. Remember, you will use the signal generator (W1) for $V_\\textrm{in}$. \n",
    "1. Measure simultaneously the input and output signal.\n",
    "1. Use the **Network Analyzer** feature of the Scopy software to generate a Bode plot of gain and phase.\n",
    "    1. See these [images of the Scopy Network Analyzer settings](Scopy_Network_Analyzer_settings.png) if you are sure how to access it.\n",
    "    1. Set the Reference channel to whichever channel is the input.\n",
    "    1. Amplitude can be around 1 V. This is the amplitude of $V_\\textrm{in}$ and is kept constant as the frequency is varied. \n",
    "    1. Pick stop and start frequencies similar to the example plot. \n",
    "    1. Make sure your \"Samples Count\", which sets the numstep size is small enough to generate a smooth Bode plot.\n",
    "1. Save the CSV of the gain and phase data .\n",
    "1. Import your CSV of the Bode plot and plot your data in Python.\n",
    "\n",
    "Once you finish Tasks 1 and 2, you should produce graphs similar to this:\n",
    "\n",
    "![High Pass](Fig_example_task_2_and_3.PNG)\n",
    "\n",
    "**Note:** For your reference, the **gain (dB)** is related to the magnitude of the transfer function $H(\\omega)$ according to \n",
    "\n",
    "$$\\textrm{Gain (dB) } = 20 \\log_{10}\\left( |H(\\omega)| \\right) = 20 \\log_{10}\\left( \\frac{|V_\\textrm{out}|}{|V_\\textrm{in}|} \\right)$$\n",
    "\n",
    "\n",
    "**Do calculations in Python. You can add cells into this Jupyter notebook. Screenshots of calculations and other work go in OneNote**"
   ]
  },
  {
   "cell_type": "markdown",
   "metadata": {
    "nbgrader": {
     "grade": false,
     "grade_id": "cell-8830f6a6f36a4a18",
     "locked": true,
     "points": 2,
     "schema_version": 3,
     "solution": false,
     "task": true
    }
   },
   "source": [
    "# Task 2: Calculate the transfer function for a high pass filter (2 pts)\n",
    "If you want (or need) to do this outside of lab, (especially for Wednesday lab), that is fine. We will cover more examples on Thursday lecture.\n",
    "\n",
    "1. Compute the \"cutoff\" or \"3 dB\" frequency, $f_C = \\frac{1}{2\\pi \\tau_{RC}} = \\frac{1}{2\\pi R C}$. This is the frequency where the filter transitions from passing the signal (transfer function is $H(\\omega) = 1$) to attenuation ($H(\\omega) << 1 $). Specifically, at the cutoff frequency, $|H(\\omega)| = |\\tilde{V}_\\textrm{out}/\\tilde{V}_\\textrm{in}| = \\sqrt{2}$, and the power in the signal is cut in half (equivalent to gain = - 3 dB).\n",
    "1. Theoretically calculate the complex transfer function.\n",
    "1. When calculating the gain in dB, use \n",
    "    * `np.abs` to get the absolute value of a complex number\n",
    "    * `np.log10` to get the log base 10\n",
    "1. When calculating the phase from the complex transfer function, use\n",
    "    * `np.angle` see [numpy documentation](https://numpy.org/doc/stable/reference/generated/numpy.angle.html) for how to return the phase angle in degrees.\n",
    "1. Make a pair of plots of the gain magnitude vs frequency and phase vs frequency. Use log scales on the graphs, similar to Lab 4.  \n",
    "    * `plt.loglog()` and `plt.semilogx()` are two useful ways to generate the log scales.\n",
    "    * Make sure your frequency range shows a couple of orders of magnitude below and above the cutoff frequency.\n",
    "1. Plot the gain and phase data on the same graph as the theory to compare. \n",
    "    \n",
    "    \n",
    "**Hint:** In lecture we will do a similar calculation with Python code. So if you run out of time in lab, don't worry because we will do something similar in lecture.\n",
    "\n",
    "**Do calculations in Python. You can add cells into this Jupyter notebook. Screenshots of calculations and other work go in OneNote**"
   ]
  },
  {
   "cell_type": "markdown",
   "metadata": {
    "nbgrader": {
     "grade": false,
     "grade_id": "cell-66727f42c918faa9",
     "locked": true,
     "points": 1,
     "schema_version": 3,
     "solution": false,
     "task": true
    }
   },
   "source": [
    "# Task 3: Impedance (resistance) of headphones (1 pt)\n",
    "1. Connect the headphone jack (Bag 5) to the breadboard. Note it has 3 terminals for the ground, left, and right audio. \n",
    "1. Plug in the lab headphones to the jack\n",
    "1. Use the Ohmmeter on the DMM to measure the resistance between each of the channels and ground\n",
    "    * Does the resistance change as you turn the built-in volume control on the headphones? \n",
    "    * What is the minimum resistance? \n",
    "    * What is the maximum resistance? \n",
    "    * Dr. Zwickl saw the resistance vary between ~20-300 ohms depending on the volume control setting. \n",
    "\n",
    "You will connect the headphones to the breadboard using the **headphone connector, which is a headphone jack that plugs directly into the breadboard.** It splits the stereo connection into three separate pins (left, ground, right). This chart shows how common headphone connectors are constructed. \n",
    "\n",
    "<img src=\"Diagram_headphone_connectors.png\" alt=\"Headphone connector diagram\" width=\"500\">\n",
    "\n",
    "**Limitation of this method:** We are only measuring the DC response and assuming the resistance is the same at higher frequencies and that the headphones act like resistors (not inductors or capacitors). \n",
    "    \n",
    "**Do calculations in Python. You can add cells into this Jupyter notebook. Screenshots of calculations and other work go in OneNote**"
   ]
  },
  {
   "cell_type": "markdown",
   "metadata": {
    "nbgrader": {
     "grade": false,
     "grade_id": "cell-f26984090593e2d5",
     "locked": true,
     "points": 2,
     "schema_version": 3,
     "solution": false,
     "task": true
    }
   },
   "source": [
    "# Task 4: Create a band pass filter with headphones in the circuit (2 pts)\n",
    "![RLC circuit, using headphones as the R](Diagram_RLC_headphones.PNG)\n",
    "The above circuit will act as a bandpass filter. Dr. Zwickl's headphones were 36 Ohms, but yours may give something different.\n",
    "\n",
    "1. Calculate the center frequency of the filter, given by $ f_{LC} = \\frac{1}{2\\pi} \\frac{1}{\\sqrt{LC}}$\n",
    "1. Build the circuit (using the headphones as the resistor element)\n",
    "    * You make the 2 uF capacitor using two 1 uF capacitors in parallel. I used two to shift the filter frequency lower. \n",
    "1. Use the M2K to take a Bode plot measurement of the RLC circuit's response, similar to Task 1.\n",
    "1. Trying listening to the headphones during the frequency sweep of the Network Analyzer. You should hear the loudest tone around $f_\\textrm{LC}$\n",
    "   \n",
    "    \n",
    "**Do calculations in Python. You can add cells into this Jupyter notebook. Screenshots of calculations and other work go in OneNote**"
   ]
  },
  {
   "cell_type": "markdown",
   "metadata": {
    "nbgrader": {
     "grade": false,
     "grade_id": "cell-aaa52877f638d0b8",
     "locked": true,
     "points": 2,
     "schema_version": 3,
     "solution": false,
     "task": true
    }
   },
   "source": [
    "# Task 5: Theoretical transfer function for RLC filter (2 pts)\n",
    "1. Calculate the transfer function for the RLC filter.\n",
    "1. Calculate the gain (dB) and phase vs frequency.\n",
    "1. Make plots of gain (dB) and phase vs frequency (similar to Task 2).\n",
    "1. Overlay plots of the Bode plot data (Task 4) with the theoretical data. They should agree closely.\n",
    "\n",
    "**Do calculations in Python. You can add cells into this Jupyter notebook. Screenshots of calculations and other work go in OneNote**"
   ]
  },
  {
   "cell_type": "markdown",
   "metadata": {
    "nbgrader": {
     "grade": false,
     "grade_id": "cell-257966c819e88595",
     "locked": true,
     "points": 1,
     "schema_version": 3,
     "solution": false,
     "task": true
    }
   },
   "source": [
    "# Task 6: Simulate the RC High Pass filter in CircuitLab (1 pt) \n",
    "1. Create the circuit from Tasks 1 and 2 in CircuitLab\n",
    "    * See the note below about how to set up the simulation command.\n",
    "1. Simulate a Bode plot for a frequency range similar to your data and calculations above.\n",
    "    * Remember the high-pass filter output is the voltage across the resistor. \n",
    "    \n",
    "#### NOTES \n",
    "Here is an example of how to set up a simulation of gain and phase shift for an RC high pass filter circuit. \n",
    "<img src=\"Fig_RC_Task_7_Schematic_and_Sim_settings_Solution.png\" alt=\"Schematic and simulate settings\" width=\"600\">\n",
    "\n",
    "Example results should appear as:\n",
    "\n",
    "<img src=\"Fig_RC_Task_7_Solution_Bode.png\" alt=\"Simulation results\" width=\"600\">\n",
    "\n",
    "**Do calculations in Python. You can add cells into this Jupyter notebook. Screenshots of calculations and other work go in OneNote**"
   ]
  },
  {
   "cell_type": "markdown",
   "metadata": {
    "nbgrader": {
     "grade": false,
     "grade_id": "cell-bd6c52e10990dc13",
     "locked": true,
     "points": 1,
     "schema_version": 3,
     "solution": false,
     "task": true
    }
   },
   "source": [
    "# Task 7: Simulate the RLC filter (with headphones) in CircuitLab (1 pt)\n",
    "1. Create the circuit diagram with appropriate component values\n",
    "1. Simulate a Bode plot for a frequency range similar to your data and calculations above.\n",
    "1. How does the CircuitLab Bode plot compare to your data? Is the center frequency similar?\n",
    "\n",
    "**Do calculations in Python. You can add cells into this Jupyter notebook. Screenshots of calculations and other work go in OneNote**"
   ]
  },
  {
   "cell_type": "markdown",
   "metadata": {
    "nbgrader": {
     "grade": false,
     "grade_id": "cell-d33326a5cd4b003e",
     "locked": true,
     "schema_version": 3,
     "solution": false,
     "task": false
    }
   },
   "source": [
    "# Task 8: (Optional, ungraded) Listen to audio through the LRC filter. \n",
    "\n",
    "\n",
    "* Instead of using the M2K's waveform generator as the source, use the 2nd headphone jack and 1/8-inch audio cable to connect your laptop or phone to the circuit. \n",
    "* You may hear the cleanest audio if you disconnect the M2K from the breadboard. \n",
    "* As a suggestion, you can connect one channel through the filter and one channel can bypass the filter. \n",
    "* The ground pins (center pins) on both headphone jacks will need to connect to each other. \n",
    "* For something simple to listen to, try this [Sine tone generator](https://www.szynalski.com/tone-generator/) or this [Piano simulator (relies on Flash, I think)](https://www.apronus.com/music/flashpiano.htm)  Were you able to verify the filter suppresses both high and low frequencies?\n",
    "* You can also try a song. It will keep the mid-range but suppress the very high and low tones."
   ]
  },
  {
   "cell_type": "code",
   "execution_count": null,
   "metadata": {},
   "outputs": [],
   "source": []
  }
 ],
 "metadata": {
  "celltoolbar": "Create Assignment",
  "kernelspec": {
   "display_name": "Python 3 (ipykernel)",
   "language": "python",
   "name": "python3"
  },
  "language_info": {
   "codemirror_mode": {
    "name": "ipython",
    "version": 3
   },
   "file_extension": ".py",
   "mimetype": "text/x-python",
   "name": "python",
   "nbconvert_exporter": "python",
   "pygments_lexer": "ipython3",
   "version": "3.9.18"
  }
 },
 "nbformat": 4,
 "nbformat_minor": 4
}
