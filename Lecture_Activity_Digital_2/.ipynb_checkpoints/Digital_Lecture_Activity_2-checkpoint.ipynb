{
 "cells": [
  {
   "cell_type": "markdown",
   "metadata": {},
   "source": [
    "# Lecture Activity: XOR, Binary Adder, and Parity Bit Generator\n",
    "\n",
    "\n",
    "Our activity will use two different Texas Instruments (TI) logic chips:\n",
    "\n",
    "1. SN74HC00N NAND chip [PDF datasheet](sn74hc00_NAND_datasheet.pdf)\n",
    "1. SN74AHC86N XOR chip [PDF datasheet](sn74ahc86_XOR_datasheet.pdf)\n",
    "\n",
    "![NAND and XOR Pinout](Fig_pin_diagram.PNG)\n",
    "\n",
    "* Each NAND and XOR gate has 2 inputs (A/B) and 1 output (Y).\n",
    "* Each chip has four identical gates.\n",
    "* 3.3 V power goes to pin 14. Ground to pin 7."
   ]
  },
  {
   "cell_type": "markdown",
   "metadata": {},
   "source": [
    "## M2K's Digitial Analysis tools\n",
    "The M2K has 16 digitial pins, which can be used as inputs or outputs. These are labeled as Digital I/O Pins 0-7 (top row) and 8-15 (bottom row).\n",
    "\n",
    "![M2Ks digital pins](FIG_adalm2000-pin-wires.png)\n",
    "\n",
    "#### Setting up and controlling an Output pin\n",
    "The diagram below shows how to set up pins 0 and 1 as Digitial Output pins. This will let you toggle their output between Low = 0 V and High = 3.3 V.\n",
    "\n",
    "![Setting up the I/O pins for Output](Fig_Scopy_Digital_IO_Control.png)"
   ]
  },
  {
   "cell_type": "markdown",
   "metadata": {},
   "source": [
    "# Task 1: Verify pins 0 and 1 are working as digital output channels\n",
    "1. Use your DMM to measure the voltage between the digitial pin 0 and ground. You should see the voltage switch between 0 and 3.3 V when you click on the \"Out\" button as shown in the right-side diagram above.\n",
    "1. Check digitial pin 1 with the DMM in the same way."
   ]
  },
  {
   "cell_type": "markdown",
   "metadata": {},
   "source": [
    "# Task 2: Build a circuit using one XOR gate  \n",
    "\n",
    "This circuit will require using 5 pins on the XOR: 1A, 1B, 1Y, GND, and VCC.\n",
    "\n",
    "**Make sure your chip says SN74AHC86N on top!** \n",
    "\n",
    "![Schematic for XOR circuit](Fig_XOR_basic.png)\n",
    "\n",
    "1. Use the M2K's positive DC power supply, V+, to provide 3.3 V to the XOR chip's supply voltage (labeled Vcc). Verify with your DMM.\n",
    "1. Connect the M2K's ground to the XOR chip's ground (labeled GND).\n",
    "1. Use the XOR chip's pins 1, 2 and 3 to build the circuit. \n",
    "    * The inputs (1A and 1B) are provided by the M2K's digitial Outputs. \n",
    "    * The output (1Y) will be connected to a resistor and LED to view whether the output is high or low. \n",
    "    * Make sure the LED is oriented correctly (Cathode = flat side)\n",
    "    * Any resistor between 220 Ohms and 1 kOhm is fine...just limits the LED current to be between 3 mA and 15 mA.\n",
    "    \n",
    "    "
   ]
  },
  {
   "cell_type": "markdown",
   "metadata": {},
   "source": [
    "# Task 3: Experimentally determine the truth table for the XOR.\n",
    "1. Use the DMM to verify the digital output is switching between high (3.3 V) and low (0 V) as shown above.\n",
    "1. Test all four input cases needed for the truth table.  The LED lights up when the output is True/High.\n",
    "1. You can fill in your results in this truth table. The XOR gate should work as expected."
   ]
  },
  {
   "cell_type": "markdown",
   "metadata": {},
   "source": [
    "| Input 1A | Input 1B | Output 1Y (LED on/off) | Expected output (XOR) |\n",
    "| -------- | -------- | ---------------------- | ---------------------  |\n",
    "| 0  | 0 | Double click to edit  |  |\n",
    "| 0  | 1 |  |  |\n",
    "| 1  | 0 |  |  |\n",
    "| 1  | 1 |  |  |"
   ]
  },
  {
   "cell_type": "markdown",
   "metadata": {},
   "source": [
    "# Task 4: Build and test the binary adder\n",
    "\n",
    "The binary adder takes two 1-bit numbers as the inputs produces a 2-bit binary number as the sum. Because the result has two bits, the circuit requires 2 LEDs. Although adding two single bit numbers might not sound impressive, the technique can be extended to inputs with more bits. \n",
    "\n",
    "* **Sum** refers to the \"1s\" digit\n",
    "* **Carry** refers to the \"2s\" digit \n",
    "\n",
    "![Schematic for binary adder](Fig_binary_adder.PNG)\n",
    "\n",
    "1. Test all four input cases needed for the truth table.  \n",
    "1. Switch the M2K digital output between high (3.3 V) and low (0 V) as shown above.\n",
    "1. You can fill in your results in this truth table."
   ]
  },
  {
   "cell_type": "markdown",
   "metadata": {},
   "source": [
    "| Input A | Input B | Carry output (LED on/off) | Sum output (LED on/off) | Decimal representation of output|\n",
    "| -------- | -------- | ---------------------- | ---------------------  | ------------- | \n",
    "| 0  | 0 | Double click to edit |  |  |\n",
    "| 0  | 1 |  |  |  |\n",
    "| 1  | 0 |  |  |  |\n",
    "| 1  | 1 |  |  |  |"
   ]
  },
  {
   "cell_type": "markdown",
   "metadata": {},
   "source": [
    "# Task 5: Build and test the parity generator\n",
    "\n",
    "Very often in computer circuitry there is error checking when digital data could be corrupted by noise. This is particularly true in the case of serial data transmission using a modem or the Internet. A very simple form of error checking sends an additional bit with each data value that gives the parity of the data. Parity is defined as even when the number of one’s in the data value is even, and odd when the number of one’s is odd. The receiver can then check the parity of the data against the parity bit, and the chances are that if there is an error, only one bit is wrong. Then the parity check can initiate a resend of the bad data. Of course, the parity bit itself could be wrong, or two data bits could be wrong, and the error would go undetected. That is why this is called a simple error check. More advanced schemes can be used to guarantee better accuracy.\n",
    "\n",
    "The circuit shown below generates the parity bit for a 4-bit input. **Use 4 digital outputs from the M2K as the 4 independent input bits.**\n",
    "\n",
    "![Schematic for Parity Generator](Fig_parity_generator.PNG)\n",
    "\n",
    "1. Test all input cases needed for the truth table.  \n",
    "1. Switch the OpenScopes digital output between high (3.3 V) and low (0 V) as shown above.\n",
    "1. You can fill in your results in this truth table. \n",
    "1. Does an output value of 1 (LED ON) represent even or odd parity?"
   ]
  },
  {
   "cell_type": "markdown",
   "metadata": {},
   "source": [
    "| Input A | Input B | Input C | Input D | Output (LED on/off) | Expected output (Parity)|\n",
    "| -------- | -------- | ---------------------- | ---------------------  | --- | --- |\n",
    "| 0  | 0 | 0 | 0 |Double click to edit | |\n",
    "| 0  | 0 | 0 | 1 | | |\n",
    "| 0  | 0 | 1 | 0 | | |\n",
    "| 0  | 0 | 1 | 1 | | |\n",
    "| 0  | 1 | 0 | 0 | | |\n",
    "| 0  | 1 | 0 | 1 | | |\n",
    "| 0  | 1 | 1 | 0 | | |\n",
    "| 0  | 1 | 1 | 1 | | |\n",
    "| 1  | 0 | 0 | 0 | | |\n",
    "| 1  | 0 | 0 | 1 | | |\n",
    "| 1  | 0 | 1 | 0 | | |\n",
    "| 1  | 0 | 1 | 1 | | |\n",
    "| 1  | 1 | 0 | 0 | | |\n",
    "| 1  | 1 | 0 | 1 | | |\n",
    "| 1  | 1 | 1 | 0 | | |\n",
    "| 1  | 1 | 1 | 1 | | |"
   ]
  },
  {
   "cell_type": "code",
   "execution_count": null,
   "metadata": {},
   "outputs": [],
   "source": []
  }
 ],
 "metadata": {
  "kernelspec": {
   "display_name": "Python 3 (ipykernel)",
   "language": "python",
   "name": "python3"
  },
  "language_info": {
   "codemirror_mode": {
    "name": "ipython",
    "version": 3
   },
   "file_extension": ".py",
   "mimetype": "text/x-python",
   "name": "python",
   "nbconvert_exporter": "python",
   "pygments_lexer": "ipython3",
   "version": "3.8.10"
  }
 },
 "nbformat": 4,
 "nbformat_minor": 4
}
