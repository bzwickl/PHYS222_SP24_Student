{
 "cells": [
  {
   "cell_type": "markdown",
   "metadata": {},
   "source": [
    "# MOSFET Activty 3 - Making Logic Gates with MOSFET\n",
    "\n",
    "#### Make sure to submit when you are done! Full-points will be awarded for participation.\n",
    "\n",
    "\n",
    "In this activity we will make logic gates using discrete transistors on the CD4007 chip. Each transistor acts like a switch. \n",
    "\n",
    "![N-channel and P-channel diagram](Fig_Nchannel_Pchannel.png)\n",
    "\n",
    "* If the transistor is OFF, then no current can flow and a voltage drop can occur across drain and source\n",
    "* If the transistor is ON and if there is no current flowing through the transistor because it is blocked elsewhere in the circuit, then $V_\\textrm{DS} = 0$ "
   ]
  },
  {
   "cell_type": "markdown",
   "metadata": {},
   "source": [
    "## Pin diagram\n",
    "The CD4007 has 6 transistors on a single chip (3 n-channel, 3 p-channel). We will use pins 6, 7, and 8 for this activity, though you could use any of the other n-channel transistors and get similar results. \n",
    "<img src=\"FIG_CD4007_pin_diagram.png\" width=\"900\">"
   ]
  },
  {
   "cell_type": "markdown",
   "metadata": {},
   "source": [
    "# Task 1: NOT Gate (Inverter)\n",
    "\n",
    "![Not Gate Schematic](Fig_Not_gate.png)\n",
    "\n",
    "1. Build the circuit using the pair of transistors that have pin 6 as the gate. \n",
    "    * N-channel pins 6,7,8 \n",
    "    * P-channel pins 6,13,14\n",
    "1. Use the signal generator for the gate voltage $V_\\textrm{In}$. Use the positive power supply for the 5 V source.\n",
    "1. Measure the output voltage with the DMM voltmeter.\n",
    "1. Fill out the truth table\n",
    "\n",
    "**Description of expected behavior:**\n",
    "When you switch $V_\\textrm{In}$ between 0 V (Low) and 5 V (High), then the output $V_\\textrm{Out}$ should have the opposite value and switch between 5V (High) and 0 V (Low). \n"
   ]
  },
  {
   "cell_type": "markdown",
   "metadata": {},
   "source": [
    "Fill in the values for the following truth table. (Double click to edit)\n",
    "\n",
    "|In 1, W1 (Volts)|Out|\n",
    "|----|----|\n",
    "|0| EDIT VALUE | \n",
    "|5| EDIT VALUE | \n"
   ]
  },
  {
   "cell_type": "markdown",
   "metadata": {},
   "source": [
    "# Task 2: NAND Gate\n",
    "The NAND Gate has the following truth table:\n",
    "\n",
    "|In 1| In 2| Out| -------- |In 1| In 2| Out|\n",
    "|---|---|---| ----------- |---|---|---|\n",
    "|0|0| 1| |Low|Low| High|\n",
    "|0|1| 1| |Low|High| High|\n",
    "|1|0| 1| |High|Low| High|\n",
    "|1|1|0 | |High|High|Low|\n",
    "\n",
    "1. Build circuit using four transistors as shown. Note that some transistors are already connected internally (e.g., M1 and M2 are already connected to the same gate voltage).\n",
    "1. You will use both signal generator outputs, W1 and W2, to control the gate inputs **In 1** and **In 2** separately. Switch them independently between 0 V and 5 V to build the full truth table. \n",
    "1. Measure the output voltage with the DMM voltmeter.\n",
    "1. Fill in the truth table below.\n",
    "\n",
    "![NAND Gate schematic](Fig_NAND_gate.png)"
   ]
  },
  {
   "cell_type": "markdown",
   "metadata": {},
   "source": [
    "Fill in the values for the following truth table. (Double click to edit)\n",
    "\n",
    "|In 1, W1 (Volts)| In 2, W2 (Volts) | Out (Volts)|\n",
    "|---|---|---|\n",
    "|0|0| EDIT VALUE | \n",
    "|0|5| EDIT VALUE | \n",
    "|5|0| EDIT VALUE| \n",
    "|5|5| EDIT VALUE | "
   ]
  },
  {
   "cell_type": "code",
   "execution_count": null,
   "metadata": {},
   "outputs": [],
   "source": []
  }
 ],
 "metadata": {
  "kernelspec": {
   "display_name": "Python 3 (ipykernel)",
   "language": "python",
   "name": "python3"
  },
  "language_info": {
   "codemirror_mode": {
    "name": "ipython",
    "version": 3
   },
   "file_extension": ".py",
   "mimetype": "text/x-python",
   "name": "python",
   "nbconvert_exporter": "python",
   "pygments_lexer": "ipython3",
   "version": "3.8.10"
  }
 },
 "nbformat": 4,
 "nbformat_minor": 4
}
