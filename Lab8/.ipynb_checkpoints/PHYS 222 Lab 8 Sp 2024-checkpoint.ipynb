{
 "cells": [
  {
   "cell_type": "markdown",
   "metadata": {
    "nbgrader": {
     "grade": false,
     "grade_id": "cell-e80e39b5adb12a9d",
     "locked": true,
     "schema_version": 3,
     "solution": false,
     "task": false
    }
   },
   "source": [
    "# Lab 8 - Op-amp applications\n",
    "### PHYS 222, Spring 2024, Dr. Ben Zwickl, Dr. Ke Xu, Dr. Michael Pierce\n",
    "\n",
    "### Goals\n",
    "* **Build a \"2 pole\" active RC filter**\n",
    "    * Measure Bode plot\n",
    "    * Compute theoretical transfer function for single and two-stage low-pass filters.\n",
    "    * Compare theory and data.\n",
    "    * Simulate two-stage filter in CircuitLab with and without the buffer.\n",
    "* **Schmidt trigger**\n",
    "    * Build a Schmitt trigger\n",
    "    * Experimentally determine the threshold voltages to switch output between posiive and negative saturation\n",
    "    * Theoretically calculate the threshold voltages\n",
    "    * Use CircuitLab to simulate the response\n",
    "\n",
    "\n",
    "### For your reference\n",
    "![Pin diagram for 741](Diagram_741_op_amp_pins.PNG)\n",
    "\n",
    "And a link to the full [data sheet and specifications](https://www.ti.com/lit/ds/symlink/ua741.pdf) from TI.\n"
   ]
  },
  {
   "cell_type": "code",
   "execution_count": null,
   "metadata": {},
   "outputs": [],
   "source": [
    "# load packages at the top of your notebook. \n",
    "# We will always use numpy and matplotlib.pyplot.\n",
    "# In future weeks, you should add these lines yourself\n",
    "\n",
    "import numpy as np\n",
    "import matplotlib.pyplot as plt"
   ]
  },
  {
   "cell_type": "markdown",
   "metadata": {
    "nbgrader": {
     "grade": false,
     "grade_id": "cell-4e879e17a25dcb38",
     "locked": true,
     "points": 0,
     "schema_version": 3,
     "solution": false,
     "task": true
    }
   },
   "source": [
    "# Task 1: Copy your `load_waveform` function from Lab 7 (or earlier)\n",
    "\n",
    "**Insert cell or cells below to record your answers**"
   ]
  },
  {
   "cell_type": "code",
   "execution_count": null,
   "metadata": {
    "nbgrader": {
     "grade": false,
     "grade_id": "cell-baeda6141519cd0a",
     "locked": true,
     "schema_version": 3,
     "solution": false,
     "task": false
    }
   },
   "outputs": [],
   "source": [
    "# RUN THESE TEST CASES BUT DON'T EDIT THEM\n",
    "\n",
    "### Test cases for load_waveform\n",
    "path_testdata = \"https://github.com/bzwickl/PHYS222_SP24_Student/raw/main/Lab2/Sample_Scopy_Data.csv\"\n",
    "data = load_waveform(path_testdata)\n",
    "\n",
    "assert len(data) == 3        # make sure the function returns a list of 3 things\n",
    "t, ch1, ch2 = data            # unpack for analysis\n",
    "assert len(t) == len(ch1) == len(ch2) == 3200  # check length of imported data set\n",
    "assert abs(ch1.mean() - -0.0033719303437499894)/-0.0033719303437499894 < 1e-4  # check the values on ch1\n",
    "assert (np.mean( np.abs(ch2) ) - 0.5011812406249)/ 0.5011812406249 < 1e-4  # check the values on ch2\n",
    "assert abs( (t.min() - (-0.0016)) ) /abs(-0.0016) < 1e-4   # check the min time"
   ]
  },
  {
   "cell_type": "markdown",
   "metadata": {
    "nbgrader": {
     "grade": false,
     "grade_id": "cell-8830f6a6f36a4a18",
     "locked": true,
     "points": 2,
     "schema_version": 3,
     "solution": false,
     "task": true
    }
   },
   "source": [
    "# Task 2: Low-pass Active Filter (2 pts)\n",
    "Op-amps can be ued to improve the performance of filters. Since an op-amp has a very high input impedance and very low output impedance it can be used as a buffer circuit to transfer the signal from one stage to the other without any signal loss. The circuit given in this task is a second order RC low pass filter. The op-amp here works as a unity gain buffer which isolates the first stage of the filter from the second stage without any signal loss due to a loading effect. \n",
    "\n",
    "![Two-stage low-pass filter](Fig_low_pass_2_stage.PNG)\n",
    "\n",
    "### Sub-tasks\n",
    "1. Build the circuit. Don't forget the op-amp need to be powered by the +-5 V power supply for VCC+ and VCC-.\n",
    "1. Similar to Lab 7, use the **Network Analyzer** feature of the Scopy software to generate a Bode plot of gain and phase.\n",
    "    1. See these [images of the Scopy Network Analyzer settings](Scopy_Network_Analyzer_settings.png) if you are sure how to access it.\n",
    "    1. Set the Reference channel to whichever channel is the input.\n",
    "    1. Amplitude can be as large as 3 V, so long as the output of the op-amp is not saturated. Because this circuit is a filter, the output should always be smaller than the input. This is the amplitude of $V_\\textrm{in}$ and is kept constant as the frequency is varied. \n",
    "    1. Pick stop and start frequencies to cover around 100 Hz to 1 MHz.\n",
    "    1. Make sure your \"Samples Count\", which sets the numstep size is small enough to generate a smooth Bode plot, but not so long it takes too long to obtain a data set. A value of 100 or 200 samples works well, but 1000 is too slow in my opinion.\n",
    "    1. **Save** the CSV of the gain and phase data .\n",
    "    1. **Import** your CSV of the Bode plot and **plot your data in Python** (again, similar to Lab 5).\n",
    "1. What is the phase shift between the input and output at low frequencies (below the cutoff or 3 dB point) and at high frequencies (above the cutoff or 3 dB point)? Plot waveforms to show the phase shift. \n",
    "    * Use your plot of gain vs frequency to estimate what frequencies are considered well above or well below the cutoff.\n",
    "    * Remember the cutoff or 3dB frequency is where the filter starts to make the output smaller by 3 dB, or a factor of $\\sqrt{2}$ in amplitude. \n",
    "\n",
    "**Insert cell or cells below to record your answers**"
   ]
  },
  {
   "cell_type": "markdown",
   "metadata": {
    "nbgrader": {
     "grade": false,
     "grade_id": "cell-ec2d5c76f0f2292a",
     "locked": true,
     "points": 2,
     "schema_version": 3,
     "solution": false,
     "task": true
    }
   },
   "source": [
    "# Task 3: Theoretical anlaysis of 2 stage low-pass filter (2 pts)\n",
    "Because the buffer isolates the first low-pass filter from the second, the transfer function of the two stage filter is the product of the individual low-pass filters.\n",
    "\n",
    "$$H(\\omega) = H_1(\\omega)H_2(\\omega)$$.\n",
    "\n",
    "Similar to Lab 5, use complex impedances to compute the transfer functions and plot them.\n",
    "\n",
    "### Subtasks\n",
    "1. What is the cutoff frequency $f_c = 1 / (2\\pi R C)$ for a single stage of the RC low-pass filter?\n",
    "1. Compute the transfer function of a single low-pass filter with values for $R$ and $C$ same as in the built circuit.\n",
    "    * You may want to work this out on pencil and paper first, then code in Python.\n",
    "1. Compute the transfer function of the two-stage low-pass filter.\n",
    "1. Make a plot of gain (in dB) vs frequency for both the single low-pass filter and two-stage low-pass filter.\n",
    "1. Add a plot of the experimental data to the theoretical gain vs frequency plot.\n",
    "    * It should overlap with the two-stage filter model.\n",
    "1. Make a separate plot of phase vs frequency for the single low-pass filter and two-stage low-pass filter. Does it show the observed 180 phase shift at high frequencies?\n",
    "\n",
    "**Insert cell or cells below to record your answers**"
   ]
  },
  {
   "cell_type": "markdown",
   "metadata": {
    "nbgrader": {
     "grade": false,
     "grade_id": "cell-f2426c5d5f309e31",
     "locked": true,
     "points": 2,
     "schema_version": 3,
     "solution": false,
     "task": true
    }
   },
   "source": [
    "# Task 4: Simulate the two pole filter with and without the op-amp as a buffer (2 pts)\n",
    "\n",
    "This task is designed to dmonstrate the effect of adding the buffer in terms of the filter's performance when connected to a high impedance load, such as the M2K oscillscope. \n",
    "\n",
    "1. **Create circuits in CircuitLab.** You will make two circuits: (1) with the op-amp as a buffer, and (2) without the op-amp as a buffer. Otherwise keep the values for resistors and capacitors identical.\n",
    "    * Because of limited number of components on a single diagram, you probably need to make two separate diagrams. \n",
    "1. **Make a Bode plot.** Use the Frequency Domain Simulation tool (Similar to Lab 5) to create a bode plot of gain and phase versus frequency.\n",
    "1. **In a markdown cell include the following**\n",
    "    * An image of your schematic\n",
    "    * An image of the Bode plot (make sure the frequency range covers well below and well above the cutoff frequency $1/(2\\pi R C)$ so you can see the low frequency gain as well as the roll-off at high frequency.\n",
    "    * Does the low-frequency gain differ between the circuits?\n",
    "    * Does the high frequency gain differ between the circuits?\n",
    "    * Does the cutoff (-3 dB) frequency change between the circuits? What is it for each circuit?\n",
    "\n",
    "\n",
    "\n",
    "**Insert cell or cells below to record your answers**"
   ]
  },
  {
   "cell_type": "markdown",
   "metadata": {
    "nbgrader": {
     "grade": false,
     "grade_id": "cell-95de828a721f83e9",
     "locked": true,
     "points": 2,
     "schema_version": 3,
     "solution": false,
     "task": true
    }
   },
   "source": [
    "# Task 5: The Schmitt trigger (2 pts)\n",
    "\n",
    "The Schmitt trigger circuit will switch or toggle its output between two levels (the op-amp's positive and negative output saturation values) depending on the input. For this trigger, the trigger point is centered on zero, so if the signal rises above or below zero the output will switch sign. It turns a continuous range of input values into binary output values (e.g., on/off or true/false). Imagine an application where a fan turns on if the temperature gets above a particular level. However, if an input signal is near the trigger point (zero), any additional noise on the input signal could cause the input to rapidly jump above and below the trigger level causing the output to rapidly shift between high and low output states. For the example of the fan, this would rapidly cycle the fan on and off, which may not be good for the motor. \n",
    "\n",
    "The Schmitt trigger circuit uses feedback to create voltage threshold values above and below zero ($T_\\textrm{upper}$ and $T_\\textrm{lower}$) between which the circuit's output will not change. The output of the trigger will switch when the input exceeds $T_\\textrm{upper}$ or is less than $T_\\textrm{lower}$. This will prevent the circuit from changing output value due to the presence of noise on the input. \n",
    "\n",
    "\n",
    "![Schmitt Trigger Schematic](Fig_Schmitt_trigger.PNG)\n",
    "\n",
    "1. **Build the circuit** and power the op-amp with +-5V from the M2K's DC suppply. Use a sinewave input, 1 kHz. Increase the input amplitude until \"triggering\" is observed. Note that \"triggering\" stops for sine waves smaller than some critical (threshold) amplitude.\n",
    "1. **Take data**. For an input signal amplitude slightly above the critical amplitude, save a waveform and plot it in your notebook.\n",
    "1. **Measure the thresholds.** Use cursors in the M2K to meausre the input voltages that cause the output to switch between high and low.\n",
    "1. **Take more data.** Make the input signal about 3 times as big, and again save a waveform and plot it in your notebook. Also use cursors to estimate the threshold values.\n",
    "1. **Hysteresis plots.** For the two data sets (critical amplitude and 3x critical amplitude) make a new visualization the waveform where you plot the input voltage on x and output voltage on y. This will let you see the \"hysteresis\" in the trigger's response. It should look similar to the graph below. You should check the XY plot in Scopy before exporting as a CSV.\n",
    "1. **Theoretical calculation.** Refer to the circuit diagram and predict the values of the triggering thresholds. Assume the Op-amp saturates at +4.2V and -3.0 V (similar to your findings in Lab 7). So the initial state of the output is saturation, and then predict how much the input would have to change to flip the sign on the output. We will discuss this calculation in lecture if you are unsure during lab.\n",
    "\n",
    "![Schmitt Trigger graph](Sample_Hysteresis_Figure.png)\n",
    "\n",
    "\n",
    "**Insert cell or cells below to record your answers**"
   ]
  },
  {
   "cell_type": "markdown",
   "metadata": {
    "nbgrader": {
     "grade": false,
     "grade_id": "cell-c5d34d7602bcb4df",
     "locked": true,
     "points": 2,
     "schema_version": 3,
     "solution": false,
     "task": true
    }
   },
   "source": [
    "# Task 6: Simulate the Schmitt trigger (2 pts)\n",
    "\n",
    "1. Build the circuit for Schmitt trigger in CircuitLab. Use the +-5V power supply voltages.\n",
    "1. Upload a plot of \n",
    "    * **Your schematic**\n",
    "    * **Vin and Vout vs time** (showing the trigger toggling between high and low states)\n",
    "\n",
    "Do you see the trigger thresholds agree with experiment? \n",
    "\n",
    "**Insert cell or cells below to record your answers**"
   ]
  },
  {
   "cell_type": "code",
   "execution_count": null,
   "metadata": {},
   "outputs": [],
   "source": []
  }
 ],
 "metadata": {
  "celltoolbar": "Create Assignment",
  "kernelspec": {
   "display_name": "Python 3 (ipykernel)",
   "language": "python",
   "name": "python3"
  },
  "language_info": {
   "codemirror_mode": {
    "name": "ipython",
    "version": 3
   },
   "file_extension": ".py",
   "mimetype": "text/x-python",
   "name": "python",
   "nbconvert_exporter": "python",
   "pygments_lexer": "ipython3",
   "version": "3.9.18"
  }
 },
 "nbformat": 4,
 "nbformat_minor": 4
}
