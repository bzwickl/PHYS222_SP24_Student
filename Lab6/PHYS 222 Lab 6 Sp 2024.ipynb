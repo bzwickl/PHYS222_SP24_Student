{
 "cells": [
  {
   "cell_type": "markdown",
   "metadata": {
    "nbgrader": {
     "grade": false,
     "grade_id": "cell-3e0b7ebf86723704",
     "locked": true,
     "schema_version": 3,
     "solution": false,
     "task": false
    }
   },
   "source": [
    "# Lab 6 - Diodes\n",
    "### PHYS 222, Spring 2024, Dr. Ben Zwickl, Dr. Ke Xu, Dr. Michael Pierce\n",
    "\n",
    "### Goals\n",
    "* **Measure the current-voltage (I-V) response curve of three types of diodes**\n",
    "    * Rectifier diode\n",
    "    * LED\n",
    "    * Zener diode\n",
    "    * Photodiode\n",
    "* **Fit the I-V response to the diode equation**\n",
    "* **Measure I-V response curve of a photodiode with light shining on it.**\n",
    "    * How much power was generated at \n",
    "* **Demonstrate the conversion of AC to DC using a diode as a rectifier.**\n",
    "    * Using a capacitor to filter or smooth out the ripple.\n",
    "* **Modeling a diode rectifier in CircuitLab**\n",
    "\n",
    "Note: You may want to prioritize the circuit building and measurement and come back to the theory and CircuitLab simulations.\n"
   ]
  },
  {
   "cell_type": "code",
   "execution_count": null,
   "metadata": {},
   "outputs": [],
   "source": [
    "# load packages at the top of your notebook. \n",
    "# We will always use numpy and matplotlib.pyplot.\n",
    "# In future weeks, you should add these lines yourself\n",
    "\n",
    "import numpy as np\n",
    "import matplotlib.pyplot as plt"
   ]
  },
  {
   "cell_type": "markdown",
   "metadata": {
    "nbgrader": {
     "grade": false,
     "grade_id": "cell-0a2b4342a92ca8bd",
     "locked": true,
     "points": 1,
     "schema_version": 3,
     "solution": false,
     "task": true
    }
   },
   "source": [
    "# Task 1: Copy your `load_waveform` function from Lab 3 (1 pt)\n",
    "\n",
    "**Insert cell or cells below to record your answers**"
   ]
  },
  {
   "cell_type": "code",
   "execution_count": null,
   "metadata": {
    "nbgrader": {
     "grade": false,
     "grade_id": "cell-1f2c5a7c96641cdf",
     "locked": true,
     "schema_version": 3,
     "solution": false,
     "task": false
    }
   },
   "outputs": [],
   "source": [
    "# RUN THESE TEST CASES BUT DON'T EDIT THEM\n",
    "\n",
    "### Test cases for load_waveform\n",
    "path_testdata = \"https://github.com/bzwickl/PHYS222_SP24_Student/raw/main/Lab2/Sample_Scopy_Data.csv\"\n",
    "data = load_waveform(path_testdata)\n",
    "assert len(data) == 3        # make sure the function returns a list of 3 things\n",
    "t, ch1, ch2 = data            # unpack for analysis\n",
    "assert len(t) == len(ch1) == len(ch2) == 3200  # check length of imported data set\n",
    "assert abs(ch1.mean() - -0.0033719303437499894)/-0.0033719303437499894 < 1e-4  # check the values on ch1\n",
    "assert (np.mean( np.abs(ch2) ) - 0.5011812406249)/ 0.5011812406249 < 1e-4  # check the values on ch2\n",
    "assert abs( (t.min() - (-0.0016)) ) /abs(-0.0016) < 1e-4   # check the min time"
   ]
  },
  {
   "cell_type": "markdown",
   "metadata": {
    "nbgrader": {
     "grade": false,
     "grade_id": "cell-994829739b13b581",
     "locked": true,
     "points": 2,
     "schema_version": 3,
     "solution": false,
     "task": true
    }
   },
   "source": [
    "# Task 2: Collect IV data for the rectifier diode (2 pts) \n",
    "This task uses the model 1N4002 Rectifier Diode (see [Digikey product page](https://www.digikey.com/en/products/detail/on-semiconductor/1N4002RLG/918018)). Rectifier diodes can draw high currents (far more than the 50 mA max current of the M2K) and operate under high voltages (far higher than the +- 5V maximum the M2K can output). Rectifier diodes are often used for high power applications, like power supplies and switches.\n",
    "\n",
    "![Circuit diagram for IV curve measurement](Diagram_IV_curve.PNG)\n",
    "\n",
    "\n",
    "1. Read this short **[SparkFun article on polarity](https://learn.sparkfun.com/tutorials/polarity/all#diode-and-led-polarity)** that includes a section on how to identify the orientation of diodes and LEDs.\n",
    "1. Build the circuit\n",
    "1. Use the waveform generator to sweep over a range of voltage values. For the source, use a Sine wave, 10Vpp, 20 Hz (higher frequencies may leads to a distortion of the response curve)\n",
    "1. Measure the voltage across the resistor ($V_B - V_A$) and voltage across the diode ($V_A$) with the two oscilloscope channels.\n",
    "1. You may be able to view the I-V function in Scopy directly using the XY mode, which plots one oscilloscope channel on the x-axis and the other channel on the y-axis. \n",
    "1. Use `load_waveform` to load your data.\n",
    "1. With the loaded data, make a separate plot of $I$ vs $V_\\textrm{diode}$. The IV curve should look similar to the one below. You will need to calculate the current through the resistor using the known value of $R$. \n",
    "    \n",
    "![Sample IV curve for Rectifier Diode](Sample_IV_curve_rectifier.png)\n",
    "\n",
    "**Note:** It is possible to preview the IV curves in Scopy using the XY plot feature, which allows you to plot Ch2 on one axis and Ch1 on the other. See this [screenshot of an XY plot](Fig_Lab6_Scopy_XY_mode.png).\n",
    "\n",
    "**Insert cell or cells below to record your answers**"
   ]
  },
  {
   "cell_type": "markdown",
   "metadata": {
    "nbgrader": {
     "grade": false,
     "grade_id": "cell-c7b2945423c4f8e7",
     "locked": true,
     "points": 2,
     "schema_version": 3,
     "solution": false,
     "task": true
    }
   },
   "source": [
    "# Task 3: Write a function to load data and plot IV curves (2 pts)\n",
    "\n",
    "We will need to plot several I-V curves for different diodes. To speed up the analysis, write a new function `load_IV` that can load the data set from Task 2 (oscilloscope channels 1 and 2) and make a plot of the I-V curve. You can start with the code from `load_waveform` and modify appropriately. \n",
    "\n",
    "**Function name:** `load_IV`\n",
    "\n",
    "**Input parameters:** \n",
    "* `filename` - a string, filename for a CSV file saved from the M2K with 2 channels of data. \n",
    "    * Ch1 should measure resistor voltage\n",
    "    * Ch2 should measure the diode voltage\n",
    "* `R` - value for the series resistance, needed to convert voltage into current\n",
    "* `label` - a string, used for a plot label and legend. Default is 'None'.\n",
    "\n",
    "**Output:** \n",
    "* Display a plot of the IV curve, including axes labels and legend.\n",
    "* Returns `[I, Vdiode]` - a list of 2 arrays representing the current\n",
    "\n",
    "If you call the function multiple times you will be able to produce a plot similar to \n",
    "![Example Combination plot](Example_Diode_Comparison.png) \n",
    "\n",
    "**Need help** on making default values for parameters in a function definition? See this [short example](https://www.w3schools.com/python/gloss_python_function_default_parameter.asp).\n",
    "\n",
    "**Insert cell or cells below to record your answers**"
   ]
  },
  {
   "cell_type": "markdown",
   "metadata": {
    "nbgrader": {
     "grade": false,
     "grade_id": "cell-0a474a95473c0181",
     "locked": true,
     "points": 2,
     "schema_version": 3,
     "solution": false,
     "task": true
    }
   },
   "source": [
    "# Task 4: IV curve comparison (2 pts) \n",
    "\n",
    "1. Use the same circuit as Task 2, but swap in these 4 diodes \n",
    "    * Rectifier (already done in Task 2)\n",
    "    * Red LED\n",
    "    * Blue LED (or Green LED)\n",
    "    * Zener Diode\n",
    "1. Use your `load_IV` function to make a combination plot for all four diodes, which should be similar to the example above. \n",
    "\n",
    "\n",
    "\n",
    "#### Notes\n",
    "1. **Setting up the waveform generator source**\n",
    "    * I took the data for a source frequency of 20 Hz. However, choosing a frequency around 1 or 2 Hz will let you watch the LED brighten and dim as the diode voltage approaches the \"knee\". If you go to 10 Hz, you will see the LED blink very rapidly.\n",
    "    * I also used Sine waves to ramp the voltage up and down, though a triangle wave would probably be okay.\n",
    "    * Using a 3 or 4 V amplitude will let you scan over a range of bias voltages. \n",
    "1. For the **Zener diode**, make sure the scan range includes source voltages that go negative so you can see the reverse breakdown start to occur (this is a designed feature of Zener diodes and will not harm them). \n",
    "\n",
    "**Insert cell or cells below to record your answers**"
   ]
  },
  {
   "cell_type": "markdown",
   "metadata": {
    "nbgrader": {
     "grade": false,
     "grade_id": "cell-7c21e4ec488bd2b9",
     "locked": true,
     "points": 2,
     "schema_version": 3,
     "solution": false,
     "task": true
    }
   },
   "source": [
    "# Task 5: Fit the Rectifier Diode data with the Diode Equation (2 pts)\n",
    "The simplest model for a diode suggests the current should have an exponential relationship with voltage,\n",
    "\n",
    "$$I = I_0\\left(e^\\frac{V_\\textrm{D}}{nV_\\textrm{T}} - 1\\right)$$\n",
    "Where $V_\\textrm{T} = kT/q$ is a constant depending on Boltzmann's constant $k$, the diode's temperature $T$ in Kelvin, and the charge of an electron $q$.  The parameter, $n$ is known as the *diode ideality factor* and is typically between 1 and 2.\n",
    "\n",
    "1. Calculate $V_\\textrm{T}$ for a room temperature. Use the constants in scipy.constants. See [list of available constants](https://docs.scipy.org/doc/scipy/reference/constants.html).\n",
    "    * For example: `from scipy import me, c` would import the mass of an electron and the speed of light.\n",
    "1. Define theoretical function `diode` with inputs: `Vd`, `n`, `I0` and returns `I`, the current.\n",
    "1. For the 1N4002 rectifier diode, find the best fit using `scipy.optimize.curve_fit`. Initial guesses will be important!\n",
    "    * `I0` can be very small, maybe 1e-8 A. \n",
    "    * `n` can have a guess of between 1 and 2. \n",
    "    * `Vd` is the voltage where the diode turns \"on\" and will vary between 0.6V (for silicon) and more than 2 V for the LEDs. \n",
    "1. Print the best fit parameters\n",
    "1. Overlay the best fit curve with the data.\n",
    "\n",
    "**Insert cell or cells below to record your answers**"
   ]
  },
  {
   "cell_type": "markdown",
   "metadata": {
    "nbgrader": {
     "grade": false,
     "grade_id": "cell-13447f1eb04e3a66",
     "locked": true,
     "points": 2,
     "schema_version": 3,
     "solution": false,
     "task": true
    }
   },
   "source": [
    "# Task 6: IV Curves for a photodiode (2 pts)\n",
    "![Photodiode](Fig_Task_6_Photodiode.png)\n",
    "\n",
    "1. For the circuit in Tasks 2-5, use a photodiode instead. The picture helps you identify the cathode and anode. It is a subtle marking.  \n",
    "1. Take IV curves for the photodiode under different lighting conditions. \n",
    "    * With no light shining on the photodetector it should have an IV curve similar to the rectifier diode.\n",
    "    * Use a flashlight to record the IV curve with varying brightnesses of light. You should be able to see the oscilloscope trace shift slightly, especially if a very bright light is brought close. Try the flashlight on your phone. Try to capture 2 different brightness levels in addition to the \"dark\" data set.\n",
    "1. Use your `load_IV` function to make a combination plot for all three brightness levels.\n",
    "\n",
    "\n",
    "#### Notes: \n",
    "* **Photodiode mode:** When acting as a sensor for light, the photodiode is typically reversed biased, which corresponds to negative voltages applied across the diode, when very little current is permitted through the diode. In response to light, a photocurrent is produced that is linearly proportional to the amount of light absorbed by the photodiode. Visually, you see the IV curve shift down in response to the light.\n",
    "* **Photovoltaic mode:** A photovoltaic cell is very similar to a photodiode. When collecting energy from a photovoltaic cell, the cell is forward biased (positive voltage). The forward bias voltage is kept at a value that maximizes power $P = |I V_\\textrm{diode}|$. If the current was positive, that corresponds to energy being consumed by the system, but because current is negative, the energy is collected.  You can read more about IV curves at [pveducation.org](https://www.pveducation.org/pvcdrom/solar-cell-operation/iv-curve).\n",
    "\n",
    "**Insert cell or cells below to record your answers**"
   ]
  },
  {
   "cell_type": "markdown",
   "metadata": {
    "nbgrader": {
     "grade": false,
     "grade_id": "cell-66a76b3ae943d8a3",
     "locked": true,
     "points": 2,
     "schema_version": 3,
     "solution": false,
     "task": true
    }
   },
   "source": [
    "# Task 7: Using a rectifier diode for AC to DC conversion. (2 pts)\n",
    "One useful application of diodes is to turn oscillatory or AC signals into a DC signal. Two common situations where this is useful are\n",
    " * power supplies that convert AC to DC as well \n",
    " * circuits that monitor the amplitude of an AC signal.\n",
    " \n",
    "We will demonstrate the rectification behavior of diodes using the AC output of the arbitrary waveform generator. The capacitor and load resistor combine to \"smooth out\" the fluctuations, producing a steadier DC output. \n",
    "\n",
    "![Diagram for rectifier circuit](Fig_Lab6_Task7_Rectifier_schematic.png)\n",
    "\n",
    "\n",
    "1. Build the circuit shown in the diagram where $R_L$ can be either 100 ohm, 1 kOhm or 100 kOhm.\n",
    "1. Use the signal generator to produce a 60 Hz sine wave signal with amplitude 5 Vpp. \n",
    "1. Save waveforms for the three values for $R_L$.\n",
    "1. Make a comparison plot showing how ripple decreases as the resistance increases (100, 1k, $\\infty$).\n",
    "1. Calculate the magnitude of the ripple using [Numpy's standard deviation function](https://numpy.org/doc/stable/reference/generated/numpy.std.html) `np.std`.\n",
    "1. Based on your understanding of RC circuits, explain why a 100 uF capacitor is used instead of a 10 nF capacitor.\n",
    "\n",
    "\n",
    "#### Notes: \n",
    "* The ceramic and film capacitors we have used so far can be inserted in to a circuit either way. Electrolytic capacitors have an orientation. The negative side is marked with arrows and is shorter.  \n",
    "* Read this short **[SparkFun article on polarity](https://learn.sparkfun.com/tutorials/polarity/all#electrolytic-capacitors)** that includes a section on electrolytic capacitors.\n",
    "\n",
    "**Insert cell or cells below to record your answers**"
   ]
  },
  {
   "cell_type": "markdown",
   "metadata": {
    "nbgrader": {
     "grade": false,
     "grade_id": "cell-1f818069bb45b724",
     "locked": true,
     "points": 1,
     "schema_version": 3,
     "solution": false,
     "task": true
    }
   },
   "source": [
    "# Task 8: CircuitLab simulation of the rectifier circuit (1 pt)\n",
    "\n",
    "1. In CircuitLab, build the AC rectifier circuit from the previous task .\n",
    "1. You can change to a polarized capacitor by editing the capacitor property called DISP (for display). \n",
    "1. Set the voltage source to the same as the waveform generator in the previous task.\n",
    "1. Run a Time Domain simulation with a stop time sufficient to capture 5 or 10 oscillations.\n",
    "\n",
    "#### Hints\n",
    "* You can select the \"Sweep Parameter\" option in CircuitLab to plot the solution for all three values of the resistor. Select `Sweep Type -> Custom`, and then list the values `100, 1000, 100e3` separated by commas. \n",
    "* To see better agreement between simulation and data, you will need to add the output impedance of 50 Ohms for the signal generator. "
   ]
  }
 ],
 "metadata": {
  "celltoolbar": "Create Assignment",
  "kernelspec": {
   "display_name": "Python 3 (ipykernel)",
   "language": "python",
   "name": "python3"
  },
  "language_info": {
   "codemirror_mode": {
    "name": "ipython",
    "version": 3
   },
   "file_extension": ".py",
   "mimetype": "text/x-python",
   "name": "python",
   "nbconvert_exporter": "python",
   "pygments_lexer": "ipython3",
   "version": "3.9.18"
  }
 },
 "nbformat": 4,
 "nbformat_minor": 4
}
