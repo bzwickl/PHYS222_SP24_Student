{
 "cells": [
  {
   "cell_type": "markdown",
   "metadata": {
    "nbgrader": {
     "grade": false,
     "grade_id": "cell-e80e39b5adb12a9d",
     "locked": true,
     "schema_version": 3,
     "solution": false,
     "task": false
    }
   },
   "source": [
    "# Lab 2 - Measuring time-dependent signals\n",
    "### PHYS 222, Spring 2024, Dr. Ben Zwickl, Dr. Ke Xu, and Dr. Michael Pierce\n",
    "\n",
    "### Goals\n",
    "* **Use the oscillscope and waveform generator to measure a circuit's response**\n",
    "    * Build and RC circuit\n",
    "    * Apply square and sine wave signals to the RC circuit.\n",
    "    * Measure RC time constant\n",
    "* **Export data from the M2K and import into JupyterHub**\n",
    "    * Save oscilloscope traces as CSV data files, and examine data structure\n",
    "    * Import CSV files into Jupyter notebook using `np.genfromtxt()`\n",
    "    * Plot imported data \n",
    "* **Write a function that automates the data import and plotting process**\n",
    "    * This function will be reused and improved throughout the course. \n",
    "* **Make a variable capacitor**\n",
    "    * Build the circuit\n",
    "    * Test theoretical relationships \n",
    "    * Apply the `load_waveform` function to simplify your experiment."
   ]
  },
  {
   "cell_type": "code",
   "execution_count": 2,
   "metadata": {},
   "outputs": [],
   "source": [
    "# load packages at the top of your notebook. \n",
    "# We will always use numpy and matplotlib.pyplot.\n",
    "# In future weeks, you should add these lines yourself\n",
    "\n",
    "import numpy as np\n",
    "import matplotlib.pyplot as plt"
   ]
  },
  {
   "cell_type": "markdown",
   "metadata": {
    "nbgrader": {
     "grade": false,
     "grade_id": "cell-1dbf1e30340207c4",
     "locked": true,
     "points": 2,
     "schema_version": 3,
     "solution": false,
     "task": true
    }
   },
   "source": [
    "# Task 1: Build an RC circuit\n",
    "<img src=\"Fig_RC_circuit_task_1.png\" alt=\"Diagram for RC circuit\" > \n",
    "You should produce a waveform similar to this, where Blue (Ch2) is measuring the voltage of the output of the signal generator (W1) at node A and orange (Ch1) is measuring the voltage across the capacitor at node B. \n",
    "<img src=\"Fig_M2K_oscilloscope_screenshot.PNG\" alt=\"Sample waveform\" width=\"500\">\n",
    "\n",
    "1. Build the RC circuit on your breadboard.\n",
    "1. Use a Signal Generator output (W1, yellow wire) as the voltage source\n",
    "    * Set to **square wave**. \n",
    "    * An amplitude of 1 V is fine\n",
    "1. Use channel 1 (1+/1-) and channel 2 (2+/2-) of the oscilloscope to simultaneously measure voltages at nodes $A$ and $B$.\n",
    "1. Save a CSV file ([click here](Fig_M2K_oscilloscope_export.PNG) for screenshot for exporting)\n",
    "1. Explain what the V/div and s/div settings mean regarding the oscilloscope.\n",
    "1. Add a photo of your circuit in your OneNote notebok.\n",
    "\n",
    "**Video Tutorial** on how the [DMM makes capacitance measurements](https://youtu.be/55khE_NY6F0). "
   ]
  },
  {
   "cell_type": "markdown",
   "metadata": {
    "nbgrader": {
     "grade": false,
     "grade_id": "cell-9c6c4be9774350cd",
     "locked": true,
     "schema_version": 3,
     "solution": false,
     "task": false
    }
   },
   "source": [
    "## Viewing your own data\n",
    "It is a great idea to open your data file as a text file (rather than data) to see how it is structured. Using the Jupyter notebook file navigator, a data file might appear as\n",
    "![Example data file preview](Text_view_of_data.JPG)"
   ]
  },
  {
   "cell_type": "markdown",
   "metadata": {
    "nbgrader": {
     "grade": false,
     "grade_id": "cell-e962b42c6679035c",
     "locked": true,
     "points": 2,
     "schema_version": 3,
     "solution": false,
     "task": true
    }
   },
   "source": [
    "# Task 2: View your own data before importing (2 pt)\n",
    "Open your saved data as a text file using an app such as Notepad or Notepad++ (Windows) or TextEdit (macOS).\n",
    "\n",
    "1. What character (e.g., letter/symbol) separates the columns?\n",
    "1. How many rows is the header (column names and units).\n",
    "1. How many columns does CSV file have?\n",
    "1. What are the quantities and units for each of the columns?\n",
    "\n",
    "In your OneNote notebook, add a screenshot of several rows of the text file and answer those questions. "
   ]
  },
  {
   "cell_type": "markdown",
   "metadata": {},
   "source": [
    "## Importing data\n",
    "Numpy comes with a function `np.genfromtxt()` that we will use to import tables of data into numpy arrays. Once the data is imported into an array, we can do analysis and plotting. The function syntax most relevant to our class is:\n",
    "\n",
    "```np.genfromtxt(fname, delimiter, skip_header)```\n",
    "\n",
    "The three function arguments we need most frequently are:\n",
    "* `fname` must be a string that contains the file name. If the file is in the same directory as the Jupyter notebook you do not need to provide a full path.\n",
    "* `delimiter` is the character that indicates a division between columns. For .CSV files the delimiter should be a comma but it could be a space or tab sometimes.\n",
    "* `skip_header` is used to skip rows at the top of the data which are used for column labels and other information. The default value is 0. If you try to import a header row, it will typically fail since header is a string, not a number.\n",
    "\n",
    "A full list of options can be found at the [official numpy documentation for genfromtxt()](https://numpy.org/doc/stable/reference/generated/numpy.genfromtxt.html).\n",
    "\n",
    "### Example of np.genfromtxt()\n",
    "\n",
    "**Run the code to see the output**"
   ]
  },
  {
   "cell_type": "code",
   "execution_count": 8,
   "metadata": {},
   "outputs": [
    {
     "name": "stdout",
     "output_type": "stream",
     "text": [
      "[[ 0.00000000e+00 -1.96212769e-01  7.89642334e-02  8.67877197e+00\n",
      "   8.68134884e+00]\n",
      " [ 2.25830100e-03 -1.81854248e-01  7.65686035e-02  9.20758057e+00\n",
      "   9.20969454e+00]\n",
      " [ 4.57763700e-03 -1.77062988e-01  7.65686035e-02  9.44926453e+00\n",
      "   9.45123347e+00]\n",
      " [ 6.92749000e-03 -1.74682617e-01  6.46057129e-02  9.54736328e+00\n",
      "   9.54917973e+00]\n",
      " [ 9.24682600e-03 -1.72286987e-01  6.46057129e-02  9.58804321e+00\n",
      "   9.58980862e+00]]\n"
     ]
    }
   ],
   "source": [
    "# This loads the data from GitHub. Note it must be the \"raw\" version of the file. Not the \"blob\" page.\n",
    "\n",
    "# github path\n",
    "path = \"https://github.com/bzwickl/PHYS222_SP24_Student/raw/main/Lab2/Accelerometer_data_sample.csv\"\n",
    "\n",
    "# import the data\n",
    "acc_data = np.genfromtxt(path, delimiter=\",\", skip_header=1)\n",
    "\n",
    "# print the first 5 rows. Should have 5 columns. \n",
    "print(acc_data[0:5]) "
   ]
  },
  {
   "cell_type": "markdown",
   "metadata": {},
   "source": [
    "## Plotting data example\n",
    "Here is an example of using matplotlib for plotting the accelerometer data.\n",
    "\n",
    "* [Official documentation on Matplotlib's plot() function](https://matplotlib.org/stable/api/_as_gen/matplotlib.pyplot.plot.html) has details on available options. \n",
    "* A [list of named colors in Matplotlib](https://matplotlib.org/stable/gallery/color/named_colors.html) can be used to change plot colors to match Scopy.\n",
    "\n",
    "**Run the code to see the output**"
   ]
  },
  {
   "cell_type": "code",
   "execution_count": 6,
   "metadata": {},
   "outputs": [
    {
     "data": {
      "image/png": "[encoded data removed]",
      "text/plain": [
       "<Figure size 640x480 with 1 Axes>"
      ]
     },
     "metadata": {},
     "output_type": "display_data"
    }
   ],
   "source": [
    "t = acc_data[:,0]  # all rows, first column is time\n",
    "ax = acc_data[:,1]  # all rows, 2nd column is x-component of acceleration\n",
    "ay = acc_data[:,2] # all rows, 3rd column is the y-component of acceleration\n",
    "az = acc_data[:,3] # all rows, 4th column is the z-component of acceleration\n",
    "\n",
    "plt.plot(t, ax, label=\"ax\")  # use label option to add a label for a legend\n",
    "plt.plot(t, ay, label=\"ay\")\n",
    "plt.plot(t, az, label=\"az\", color=\"deeppink\")\n",
    "plt.legend()  # add legend to the plot\n",
    "plt.xlabel('Time (s)')  # add x-axis label\n",
    "plt.ylabel('Acceleration (m/s^2)') # add y-axis label\n",
    "plt.grid() # add major gridlines"
   ]
  },
  {
   "cell_type": "markdown",
   "metadata": {},
   "source": [
    "## How to upload and access data from Google Drive\n",
    "1. **Create a special folder for PHYS 222 in your Google Drive.** Make a sub-folder for each lab.\n",
    "1. **Upload** a saved data file from Scopy\n",
    "1. **Mount the Google Drive.** This inserts two lines of code (see cell below) that allow you to open files from your Google Drive within Colab. \n",
    "![Screenshot showing where to click to mount the Google Drive](Mounting_google_drive.png)\n",
    "1. **Give Colab permission** to access Google Drive. It will go through RIT authentication. The process takes 10-20 seconds. \n",
    "1. **Locate the file path** under `/content/drive/MyDrive' and navigate to the directory with the file. \n",
    "![Screenshot showing how to navigate to your Google Drive](Navigating_Your_Google_Drive.PNG)\n",
    "1. **Right click on the file** to copy the full path. \n",
    "![Screenshot showing how to copy the path of a file](Get_Google_Drive_Path.PNG)\n",
    "1. **Set a variable named `path` to this pasted value.** Put quotes around the pasted text to ensure it is astring. In my example it becomes \n",
    "`path = '/content/drive/Shareddrives/PHYS 222/2024 Spring/Lab Guides/Lab 2/Sample_Scopy_Data.csv'`"
   ]
  },
  {
   "cell_type": "code",
   "execution_count": null,
   "metadata": {},
   "outputs": [],
   "source": [
    "from google.colab import drive\n",
    "drive.mount('/content/drive')"
   ]
  },
  {
   "cell_type": "markdown",
   "metadata": {
    "nbgrader": {
     "grade": false,
     "grade_id": "cell-927537a2a0779e41",
     "locked": true,
     "points": 2,
     "schema_version": 3,
     "solution": false,
     "task": true
    }
   },
   "source": [
    "# Task 3: Import data and make a plot (2 pts)\n",
    "\n",
    "1. Upload data to Google Drive and mount the Google Drive\n",
    "1. Get the path for your uploaded data. \n",
    "1. Use `genfromtxt` to import **your own CSV data** from the M2K.\n",
    "1. Create three separate arrays for time, channel 1, and channel 2\n",
    "1. Create a plot with axes labels and legend, similar to this one:\n",
    "\n",
    "![Example Matplotlib Plot of the M2K data](Example_matplotlib_M2K.png)\n",
    "\n",
    "**Insert cell or cells below to write your code. Copy a screenshot of the working code and output into OneNote.**"
   ]
  },
  {
   "cell_type": "markdown",
   "metadata": {
    "nbgrader": {
     "grade": false,
     "grade_id": "cell-69e9d9264186b24e",
     "locked": true,
     "points": 2,
     "schema_version": 3,
     "solution": false,
     "task": true
    }
   },
   "source": [
    "# Task 4: Write a function to load an plot the data (2 pts)\n",
    "\n",
    "Recall the basic syntax for defining a function is \n",
    "```\n",
    "def function_name(parameters):\n",
    "    \"\"\"docstring\"\"\"\n",
    "    statement(s)\n",
    "    return value\n",
    "```\n",
    "\n",
    "Here are the specifications for your function\n",
    "\n",
    "**Function name:** `load_waveform`\n",
    "\n",
    "**Input parameters:** \n",
    "* `filename` - filename for a CSV file saved from the M2K with 2 channels of data\n",
    "\n",
    "**Output:** \n",
    "* **Display a plot of the loaded data** similar to Task 3, including axes labels and legend indicating CH1 and CH2\n",
    "* **Return** `[t,ch1,ch2]` - a list of 3 arrays representing time, CH1 volts, and CH2 volts\n",
    "\n",
    "**Use the provided cell below to record your answers**"
   ]
  },
  {
   "cell_type": "markdown",
   "metadata": {
    "nbgrader": {
     "grade": false,
     "grade_id": "cell-564352aea94d0081",
     "locked": true,
     "schema_version": 3,
     "solution": false,
     "task": false
    }
   },
   "source": [
    "Run the test cases below for your `load_waveform` function. If the tests pass, the only output will be the plot of the sample data. \n",
    "\n",
    "If there are errors, it will identify which `assert` statement generated the error. "
   ]
  },
  {
   "cell_type": "code",
   "execution_count": null,
   "metadata": {},
   "outputs": [],
   "source": [
    "# RUN THESE TEST CASES BUT DON'T EDIT THEM\n",
    "\n",
    "### Test cases for load_waveform\n",
    "path_testdata = \"https://github.com/bzwickl/PHYS222_SP24_Student/raw/main/Lab2/Sample_Scopy_Data.csv\"\n",
    "data = load_waveform(path_testdata)\n",
    "assert len(data) == 3        # make sure the function returns a list of 3 things\n",
    "t, ch1, ch2 = data            # unpack for analysis\n",
    "assert len(t) == len(ch1) == len(ch2) == 3200  # check length of imported data set\n",
    "assert abs(ch1.mean() - -0.0033719303437499894)/-0.0033719303437499894 < 1e-4  # check the values on ch1\n",
    "assert (np.mean( np.abs(ch2) ) - 0.5011812406249)/ 0.5011812406249 < 1e-4  # check the values on ch2\n",
    "assert abs( (t.min() - (-0.0016)) ) /abs(-0.0016) < 1e-4   # check the min time"
   ]
  },
  {
   "cell_type": "markdown",
   "metadata": {
    "nbgrader": {
     "grade": false,
     "grade_id": "cell-1eb8495d79a50e9d",
     "locked": true,
     "points": 2,
     "schema_version": 3,
     "solution": false,
     "task": true
    }
   },
   "source": [
    "# Task 5: Build and measure a DIY variable capacitor (2 pts, 1 hour)\n",
    "\n",
    "**Apply your `load_waveform` function to demonstrate how easily you can collect and plot multiple data sets** and speed up your analysis of circuit behavior.\n",
    "\n",
    "In this task you will build a capacitor using two pieces of aluminum foil and one or more sheets of paper as a spacer. The technique bears some similarity to capacitive touch sensing, but is not identical.\n",
    "\n",
    "From UP2, you should be familiar with the equation for the capacitance $C$ of a parallel plate capacitor:\n",
    "\n",
    "$$ C = K \\epsilon_0 \\frac{A}{d}$$ \n",
    "\n",
    "where $A$ is the area of the plates, $d$ is the separation, and $K$ is the \"dielectric constant\" for the material between the plates. \n",
    "\n",
    "**The circuit diagram** should look similar to \n",
    "\n",
    "![Circuit diagram for the Aluminum Foil Capacitor](Fig_lab-2-task-5.png)\n",
    "\n",
    "**An example photo is provided,** but don't base your connections on the photo. Just use the circuit diagram.  Placing a heavy flat object (e.g., a book) on top of the foil-paper-foil assembly will keep it flat.\n",
    "<img src=\"DIY_Capacitor_photo.jpg\" alt=\"Photo of Experimental setup for DIY capacitor\" width=\"500\">\n",
    "\n",
    "\n",
    "\n",
    "**Your goals** \n",
    "1. **Build a resistor-capacitor circuit** with a DIY parallel plate capacitor. Flatten the capacitor with books. \n",
    "1. **Choose** whether you will vary the area $A$ or the spacing $d$. \n",
    "1. **Adjust the signal generator frequency and oscilloscope timescale** so you can clearly see the exponential decays. \n",
    "1. **Use both CH1 and CH2 to measure the square wave AND the capacitor voltage to trigger on the square wave** to get the time-axis on all the data sets to line up.  (Triggering fixed the t = 0 on the oscilloscope)\n",
    "1. **Save a three or more data sets** showing how the circuit response varies with the changing $A$ or $d$.\n",
    "1. **Generate a single plot showing the RC response signal** (rising and falling exponentials) for your different data sets. The plot should show the qualitative trend. In the text or plot legend indicate how you varied the parameter. Call your `load_waveform` function three times within the same cell should create three overlaid plots. \n",
    "\n",
    "![Example Task 5 data](Fig_Example_Task5.PNG)\n",
    "\n",
    "**Need help?** \n",
    "* See the [video on the DIY variable capacitor](https://youtu.be/aV78VR-jEyE).\n",
    "* You may want to place a book on top of the capacitor to keep the plates flat. This is likely to produce more consistent results.\n",
    "\n",
    "**Use the provided cell below to record your answers**"
   ]
  },
  {
   "cell_type": "code",
   "execution_count": null,
   "metadata": {},
   "outputs": [],
   "source": []
  }
 ],
 "metadata": {
  "celltoolbar": "Create Assignment",
  "kernelspec": {
   "display_name": "Python 3 (ipykernel)",
   "language": "python",
   "name": "python3"
  },
  "language_info": {
   "codemirror_mode": {
    "name": "ipython",
    "version": 3
   },
   "file_extension": ".py",
   "mimetype": "text/x-python",
   "name": "python",
   "nbconvert_exporter": "python",
   "pygments_lexer": "ipython3",
   "version": "3.9.18"
  }
 },
 "nbformat": 4,
 "nbformat_minor": 4
}
